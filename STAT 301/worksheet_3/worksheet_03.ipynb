{
 "cells": [
  {
   "cell_type": "markdown",
   "metadata": {
    "deletable": false,
    "editable": false,
    "nbgrader": {
     "cell_type": "markdown",
     "checksum": "43ec1a8cb72470b2a1670b31c8848a0c",
     "grade": false,
     "grade_id": "cell-f1e1d845873036f4",
     "locked": true,
     "schema_version": 3,
     "solution": false,
     "task": false
    }
   },
   "source": [
    "# Worksheet 3: Introduction to Generative Modelling"
   ]
  },
  {
   "cell_type": "markdown",
   "metadata": {
    "deletable": false,
    "editable": false,
    "nbgrader": {
     "cell_type": "markdown",
     "checksum": "0759b285d3e9aab838a8b34ac037782c",
     "grade": false,
     "grade_id": "cell-82d9926086d47a80",
     "locked": true,
     "schema_version": 3,
     "solution": false,
     "task": false
    }
   },
   "source": [
    "## Learning Objectives\n",
    "\n",
    "After completing this week's lecture and tutorial work, you will be able to:\n",
    "\n",
    "1. Give an example of a question that could be answered by generative modelling.\n",
    "2. Explain how a linear regression can be used to approximate the underlying mechanism that generated the data (quantitative response and input variables).\n",
    "3. Interpret the estimated coefficients and $p$-values derived from theoretical results for a simple linear regression (i.e., one input variable).\n",
    "4. Discuss the assumptions made to estimate the simple linear regression coefficients and approximate their sampling distribution.\n",
    "5. Explain how to approximate the sampling distribution of the simple linear regression coefficient estimators using bootstrapping. \n",
    "6. Contrast the sampling distribution approximated using theoretical results with bootstrapping alternatives for a simple linear regression setting.\n",
    "7. Compute confidence intervals for the simple linear regression coefficients using theoretical approximations and bootstrapping results.\n",
    "8. Write a computer script to perform simple linear regression analysis."
   ]
  },
  {
   "cell_type": "code",
   "execution_count": null,
   "metadata": {
    "deletable": false,
    "editable": false,
    "nbgrader": {
     "cell_type": "code",
     "checksum": "bdbf5c801ce3936aaded443060f02f0e",
     "grade": false,
     "grade_id": "cell-a2a153352bc44a68",
     "locked": true,
     "schema_version": 3,
     "solution": false,
     "task": false
    }
   },
   "outputs": [],
   "source": [
    "# Run this cell before continuing.\n",
    "library(tidyverse)\n",
    "library(repr)\n",
    "library(infer)\n",
    "library(cowplot)\n",
    "library(broom)\n",
    "source(\"tests_worksheet_03.R\")"
   ]
  },
  {
   "cell_type": "markdown",
   "metadata": {
    "deletable": false,
    "editable": false,
    "nbgrader": {
     "cell_type": "markdown",
     "checksum": "94ab3596c2bc79f4dd3553c061a7e7b3",
     "grade": false,
     "grade_id": "cell-7a45b51c13b6ebc9",
     "locked": true,
     "schema_version": 3,
     "solution": false,
     "task": false
    }
   },
   "source": [
    "# 1. Generative models\n",
    "\n",
    "As data scientists, we are often interested in understanding the relationship between variables in our data using *models*. For example:\n",
    "\n",
    "- which variables are associated with a response of interest? \n",
    "\n",
    "- can we model the relationship between the response and the input variables? Is a linear model adequate?\n",
    "\n",
    "- which variables are positively/negatively associated with the response? \n",
    "\n",
    "- does the relationship between the response and an input variable depend on the values of the other variables?\n",
    "\n",
    "**Linear regression models can be used to answer these questions**\n"
   ]
  },
  {
   "cell_type": "markdown",
   "metadata": {
    "deletable": false,
    "editable": false,
    "nbgrader": {
     "cell_type": "markdown",
     "checksum": "8395f7357dfb5b4c0a0bd844bb40dc12",
     "grade": false,
     "grade_id": "cell-be373688c2e20c12",
     "locked": true,
     "schema_version": 3,
     "solution": false,
     "task": false
    }
   },
   "source": [
    "## 1.1 Scope of Linear Regression\n",
    "\n",
    "A linear regression is used to study the relationship between a *continuous response* and one or more input variables of different types (continuous or discrete)\n",
    "\n",
    "\n",
    "- In STAT 201 (Statistical Inference) you have learned tools to study the relation between a continuous and a categorical variable. For example, \n",
    "    - *does website A attracts more donations than website B?* \n",
    "\n",
    "\n",
    "- However, there are some questions that you won't be able to answer with the tools learned in STAT 201. For example, \n",
    "    - *is the size of the donation related to the income of the user?* (unless you collapse the information into 2 groups, e.g., large vs small income users)\n",
    "    \n",
    "    - if a company changes its website, what would be the expected size of the donations received?\n",
    "\n",
    "#### <font color=blue>  Linear Regression Models provide a unifying framework to study the relation between different type of variables and a **continuous response** </font>"
   ]
  },
  {
   "cell_type": "markdown",
   "metadata": {
    "deletable": false,
    "editable": false,
    "nbgrader": {
     "cell_type": "markdown",
     "checksum": "578ed661e678a0c7cc85df948841be8f",
     "grade": false,
     "grade_id": "cell-1613c0cdb742774f",
     "locked": true,
     "schema_version": 3,
     "solution": false,
     "task": false
    }
   },
   "source": [
    "Research in linear models has been focused on 3 important aspects: **estimation, inference, and prediction** \n",
    "\n",
    "- **Estimation**: how to estimate the true (but unknown) relation between the response and the input variables\n",
    "\n",
    "- **Inference**: how to use the model to infer information about the unknown relation between variables\n",
    "\n",
    "- **Prediction**: how to use the model to predict the value of the response for new observations \n",
    "\n",
    "**Note**: These goals are related!"
   ]
  },
  {
   "cell_type": "markdown",
   "metadata": {
    "deletable": false,
    "editable": false,
    "nbgrader": {
     "cell_type": "markdown",
     "checksum": "4b93bb35e2c69400a5786735b8aa6093",
     "grade": false,
     "grade_id": "cell-ff3b3cf986f94c13",
     "locked": true,
     "schema_version": 3,
     "solution": false,
     "task": false
    }
   },
   "source": [
    "## 1.2 Historical throwback ...\n",
    "\n",
    "> **Historical note I**: Least squares (a classical method in Regression) was first used by **Legendre** (1805) and by **Gauss** (1809) to estimate the orbits of comets based on measurements of the comets’ previous locations. Gauss even predicted the appearence of the asteroid Ceres using LS combined with other complex computations (Source: [The Discovery of Statistical Regression](http://econ.ucsb.edu/~doug/240a/The%20Discovery%20of%20Statistical%20Regression.htm))\n",
    "\n",
    "    \n",
    "![](http://pix-media.s3.amazonaws.com/blog/1061/image021.png)"
   ]
  },
  {
   "cell_type": "markdown",
   "metadata": {
    "deletable": false,
    "editable": false,
    "nbgrader": {
     "cell_type": "markdown",
     "checksum": "18819a1530ff39f2e066816eaeca80aa",
     "grade": false,
     "grade_id": "cell-556a53bf250268ff",
     "locked": true,
     "schema_version": 3,
     "solution": false,
     "task": false
    }
   },
   "source": [
    "> **Historical note II**: However, neither Legendre or Gauss coined the term \"Regression\". **Francis Galton** in the nineteenth century use this term to describe a biological phenomenon that he observed: \"It appeared from these experiments that the offspring did not tend to resemble their parents seeds in size, but to be always more mediocre than they\". It was later his colleage **Karl Pearson** who associated Least Squares to Regression...\n",
    "\n",
    "<img src=\"img/galton_pearson.png\" style=\"width:800px\"/>\n",
    "\n",
    "Note: unfortunately, Francis Galton had disturbing and unacceptable views of race (https://en.wikipedia.org/wiki/Francis_Galton)"
   ]
  },
  {
   "cell_type": "markdown",
   "metadata": {
    "deletable": false,
    "editable": false,
    "nbgrader": {
     "cell_type": "markdown",
     "checksum": "50e16e98eb8ecf3edc874989d4a886ec",
     "grade": false,
     "grade_id": "cell-09a386d629785f68",
     "locked": true,
     "schema_version": 3,
     "solution": false,
     "task": false
    }
   },
   "source": [
    "## 1.3. How have linear regression models been used?"
   ]
  },
  {
   "cell_type": "markdown",
   "metadata": {
    "deletable": false,
    "editable": false,
    "nbgrader": {
     "cell_type": "markdown",
     "checksum": "9252c2f28a14b36e43fd784ea12a3e56",
     "grade": false,
     "grade_id": "cell-8800b1246a94821c",
     "locked": true,
     "schema_version": 3,
     "solution": false,
     "task": false
    }
   },
   "source": [
    "### Sports: an example of prediction\n",
    "\n",
    "Billy Bean, manager of the Oakland Athletics, used statistics to identify low cost players who can help the team win (example from Introduction to Data Science, Rafael Irizarry)\n",
    "\n",
    "<table><tr>\n",
    "<td> <img src=\"img/moneyball.png\" style=\"width:800px;\"/> </td>\n",
    "<td> <img src=\"img/moneyball_RI.png\" style=\"width:800px;\"/> </td>\n",
    "</tr></table>"
   ]
  },
  {
   "cell_type": "markdown",
   "metadata": {
    "deletable": false,
    "editable": false,
    "nbgrader": {
     "cell_type": "markdown",
     "checksum": "b20227bd153a09955387ec57024eeef9",
     "grade": false,
     "grade_id": "cell-2ebe992950c85827",
     "locked": true,
     "schema_version": 3,
     "solution": false,
     "task": false
    }
   },
   "source": [
    "### Public Health: an example of estimation\n",
    "\n",
    "#### [Funding and Publication of Research on Gun Violence](https://jamanetwork.com/journals/jama/fullarticle/2595514)\n",
    "\n",
    "![](img/jama_fig.png)\n",
    "Reference: *JAMA* 2017; 317(1):84-85\n",
    "\n",
    "Fetured twice in New York Times: [Gun Research Is Suddenly Hot](https://www.nytimes.com/2019/04/17/upshot/gun-research-is-suddenly-hot.html), [There's an Awful Lot We Still Don't Know About Guns](https://www.nytimes.com/interactive/2018/03/02/upshot/what-should-government-study-gun-research-funding.html)"
   ]
  },
  {
   "cell_type": "markdown",
   "metadata": {
    "deletable": false,
    "editable": false,
    "nbgrader": {
     "cell_type": "markdown",
     "checksum": "116d805b29c7d5768a4bea970a21fc26",
     "grade": false,
     "grade_id": "cell-74ab53541ea1ac5e",
     "locked": true,
     "schema_version": 3,
     "solution": false,
     "task": false
    }
   },
   "source": [
    "### Climate Change: an example of inference\n",
    "\n",
    "[Here’s The Best Place To Move If You’re Worried About Climate Change](https://fivethirtyeight.com/features/heres-the-best-place-to-move-if-youre-worried-about-climate-change/)\n",
    "\n",
    "![img/pic_FiveThirtyEight](https://fivethirtyeight.com/wp-content/uploads/2019/09/CLIMATEWINNERS-0919-4x3.png?w=575)\n",
    "Reference: featured article in FiveThirtyEight\n",
    "\n",
    "[Climate Amenities, Climate Change, and American Quality of Life](https://www.journals.uchicago.edu/doi/full/10.1086/684573)\n",
    "\n",
    "Economists have used different **linear regression models** to explain people's choices in relation to climate variables. Reference: *JAERE* 2016; 3(1): 205-246"
   ]
  },
  {
   "cell_type": "markdown",
   "metadata": {
    "deletable": false,
    "editable": false,
    "nbgrader": {
     "cell_type": "markdown",
     "checksum": "505b66cb4625e3f1120a72f5d5935437",
     "grade": false,
     "grade_id": "cell-a08b1f2254be3fd5",
     "locked": true,
     "schema_version": 3,
     "solution": false,
     "task": false
    }
   },
   "source": [
    "### Medicine and Molecular Biology: an example of prediction\n",
    "\n",
    "#### [Can We Predict Protein from mRNA levels?](https://www.nature.com/articles/nature23293)\n",
    "\n",
    "<img src=\"img/nature_gcf.png\" style=\"width:1300px;\"/>\n",
    "\n",
    "Reference: *Nature* 2017, 547:E19–E20"
   ]
  },
  {
   "cell_type": "markdown",
   "metadata": {
    "deletable": false,
    "editable": false,
    "nbgrader": {
     "cell_type": "markdown",
     "checksum": "8bd378ab40b47f36e991753621a37950",
     "grade": false,
     "grade_id": "cell-3443ed42bc9381f7",
     "locked": true,
     "schema_version": 3,
     "solution": false,
     "task": false
    }
   },
   "source": [
    "# PART I: Estimation"
   ]
  },
  {
   "cell_type": "markdown",
   "metadata": {
    "deletable": false,
    "editable": false,
    "nbgrader": {
     "cell_type": "markdown",
     "checksum": "407790446469ac594608a0a8c2980a1e",
     "grade": false,
     "grade_id": "cell-19ae9bffff571745",
     "locked": true,
     "schema_version": 3,
     "solution": false,
     "task": false
    }
   },
   "source": [
    "# 2. Introduction to Simple Linear Regression (SLR)\n",
    "\n",
    "The purpose of this section is to practice building and interpreting SLR models and become familiar with `R` functions such as `lm()` and `broom()`. \n",
    "\n",
    "> \"Simple\" refers to a linear model with only *one* input variable!"
   ]
  },
  {
   "cell_type": "markdown",
   "metadata": {
    "deletable": false,
    "editable": false,
    "nbgrader": {
     "cell_type": "markdown",
     "checksum": "2eb3bf6686b52f88f07f6eb55bac085c",
     "grade": false,
     "grade_id": "cell-09b1d3cf9ae20175",
     "locked": true,
     "schema_version": 3,
     "solution": false,
     "task": false
    }
   },
   "source": [
    "#### The question\n",
    "In this worksheet we will examine the relationship between cancer mortality rates and different demographic and medical variables."
   ]
  },
  {
   "cell_type": "markdown",
   "metadata": {},
   "source": [
    "#### Read in the data\n",
    "\n",
    "We will use the dataset `US_cancer_data` that contains data on cancer mortality rate and different demographic and medical variables in American counties. \n",
    "\n",
    "The data come from [data.world](https://data.world/nrippner/ols-regression-challenge) and other sources: [census.gov](http://census.gov/), [clinicaltrials.gov](http://clinicaltrials.gov/), and [cancer.gov](http://cancer.gov/). All values have been collected in the 2010s but vary per source.\n",
    "\n",
    "> **Heads up**: Recall the importance of using a *random* sample to obtain representative summaries and broad conclusions!\n",
    "\n",
    "In the [source documentation](https://data.world/nrippner/ols-regression-challenge) you can find the definition of each of the selected variables:\n",
    "\n",
    "- `TARGET_deathRate`: a continuous variable that measures cancer mortality per capita (for every 100,000 inhabitants), obtained as an average of data collected from the years 2010-2016.\n",
    "\n",
    "- `povertyPercent`: a continuous variable that measures percentage of the county's populace in poverty from 2013 American Census estimates.\n",
    "\n",
    "- `PctPrivateCoverage`: a continuous variable that measures percentage of the county residents with private health coverage from 2013 American Census estimates. \n",
    "\n",
    "Let's start by reading this dataset!"
   ]
  },
  {
   "cell_type": "code",
   "execution_count": null,
   "metadata": {
    "deletable": false,
    "editable": false,
    "nbgrader": {
     "cell_type": "code",
     "checksum": "a314da1903c4c12d4179164d78d470d0",
     "grade": false,
     "grade_id": "cell-3e3dd54caa25ebd4",
     "locked": true,
     "schema_version": 3,
     "solution": false,
     "task": false
    }
   },
   "outputs": [],
   "source": [
    "US_cancer_data <- read_csv(\"data/US_county_cancer_data.csv\") %>%\n",
    "  select(TARGET_deathRate, povertyPercent, PctPrivateCoverage)"
   ]
  },
  {
   "cell_type": "markdown",
   "metadata": {
    "deletable": false,
    "editable": false,
    "nbgrader": {
     "cell_type": "markdown",
     "checksum": "d2943ed7d6e8dc255e02bf5deac65d55",
     "grade": false,
     "grade_id": "cell-09645dfe5eb37823",
     "locked": true,
     "schema_version": 3,
     "solution": false,
     "task": false
    }
   },
   "source": [
    "You can hypothesize that the cancer mortality of each county may be affected by the average level of povery. Thus, you want to study quantitavely the association, at county level, between `TARGET_deathRate` and `povertyPercent`."
   ]
  },
  {
   "cell_type": "markdown",
   "metadata": {
    "deletable": false,
    "editable": false,
    "nbgrader": {
     "cell_type": "markdown",
     "checksum": "91ec9151a38abeb1cb333c749c8850de",
     "grade": false,
     "grade_id": "cell-53d9eed9dc88d641",
     "locked": true,
     "schema_version": 3,
     "solution": false,
     "task": false
    }
   },
   "source": [
    "**Question 2.0**\n",
    "<br>{points: 1}\n",
    "\n",
    "\n",
    "Within the context of this exercise, answer the following:\n",
    "\n",
    "**2.0.0.** Which variable will you choose as a response $Y$? Answer with the column's name from `US_cancer_data`.\n",
    "\n",
    "**2.0.1.** Which variable will you choose the input $X$? Answer with the column's name from `US_cancer_data`.\n",
    "\n",
    "\n",
    "*Assign your answers to the objects `answer2.0.0` (character type surrounded by quotes), `answer2.0.1` (character type surrounded by quotes).*"
   ]
  },
  {
   "cell_type": "code",
   "execution_count": null,
   "metadata": {
    "deletable": false,
    "nbgrader": {
     "cell_type": "code",
     "checksum": "f87f6c76d2bc0dc7d5a158031e8de5fc",
     "grade": false,
     "grade_id": "cell-5df91bad44bb6ee6",
     "locked": false,
     "schema_version": 3,
     "solution": true,
     "task": false
    }
   },
   "outputs": [],
   "source": [
    "# answer2.0.0 <- ...\n",
    "# answer2.0.0\n",
    "# answer2.0.1 <- ...\n",
    "# answer2.0.1\n",
    "\n",
    "# your code here\n",
    "fail() # No Answer - remove if you provide an answer"
   ]
  },
  {
   "cell_type": "code",
   "execution_count": null,
   "metadata": {
    "deletable": false,
    "editable": false,
    "nbgrader": {
     "cell_type": "code",
     "checksum": "bd89b2ce71220714303e0223524aa865",
     "grade": true,
     "grade_id": "cell-44112c42fed63850",
     "locked": true,
     "points": 1,
     "schema_version": 3,
     "solution": false,
     "task": false
    }
   },
   "outputs": [],
   "source": [
    "test_2.0()"
   ]
  },
  {
   "cell_type": "markdown",
   "metadata": {
    "deletable": false,
    "editable": false,
    "nbgrader": {
     "cell_type": "markdown",
     "checksum": "52febd74fe5db8e6cc55779c372a37d3",
     "grade": false,
     "grade_id": "cell-f5afa719df22abe6",
     "locked": true,
     "schema_version": 3,
     "solution": false,
     "task": false
    }
   },
   "source": [
    "**Question 2.1**\n",
    "<br>{points: 1}\n",
    "\n",
    "Using `US_cancer_data`, create a scatterplot of the response $Y$ versus the input $X$. Call the resulting object `cancer_poverty_scatterplot`. \n",
    "\n",
    "> **Heads-up:** It is always important to display units of variables in plots to allow their proper interpretation!\n",
    "\n",
    "*Fill out those parts indicated with `...`, uncomment the corresponding code in the cell below, and run it.*"
   ]
  },
  {
   "cell_type": "code",
   "execution_count": null,
   "metadata": {
    "deletable": false,
    "nbgrader": {
     "cell_type": "code",
     "checksum": "4ecfddda5fedc176d371a05e7cf615bc",
     "grade": false,
     "grade_id": "cell-0c778621438a3597",
     "locked": false,
     "schema_version": 3,
     "solution": true,
     "task": false
    }
   },
   "outputs": [],
   "source": [
    "options(repr.plot.width = 10, repr.plot.height = 7) # Adjust these numbers so the plot looks good in your desktop.\n",
    "\n",
    "\n",
    "# cancer_poverty_scatterplot <- ggplot(..., aes(..., ...)) +\n",
    "#   ...() +\n",
    "#   xlab(...) +\n",
    "#   ylab(...) +\n",
    "#   theme(\n",
    "#     text = element_text(size = 16.5),\n",
    "#     plot.title = element_text(face = \"bold\"),\n",
    "#     axis.title = element_text(face = \"bold\")\n",
    "#   )\n",
    "# cancer_poverty_scatterplot\n",
    "\n",
    "# your code here\n",
    "fail() # No Answer - remove if you provide an answer"
   ]
  },
  {
   "cell_type": "code",
   "execution_count": null,
   "metadata": {
    "deletable": false,
    "editable": false,
    "nbgrader": {
     "cell_type": "code",
     "checksum": "f942d0a742dda6376e4aa84cc88f50f9",
     "grade": true,
     "grade_id": "cell-9ab30539bf2fa701",
     "locked": true,
     "points": 1,
     "schema_version": 3,
     "solution": false,
     "task": false
    }
   },
   "outputs": [],
   "source": [
    "test_2.1()"
   ]
  },
  {
   "cell_type": "markdown",
   "metadata": {
    "deletable": false,
    "editable": false,
    "nbgrader": {
     "cell_type": "markdown",
     "checksum": "2d745ad949120230e6a2123af78fbed7",
     "grade": false,
     "grade_id": "cell-7067872e63649111",
     "locked": true,
     "schema_version": 3,
     "solution": false,
     "task": false
    }
   },
   "source": [
    "**Question 2.2**\n",
    "<br>{points: 1}\n",
    "\n",
    "Based on the `cancer_poverty_scatterplot`, how would you describe the graphical association between $X$ and $Y$?\n",
    "\n",
    "**A.** Negative.\n",
    "\n",
    "**B.** Positive.\n",
    "\n",
    "*Assign your answer to an object called `answer2.2`. Your answer should be one of `\"A\"` or `\"B\"` surrounded by quotes.*"
   ]
  },
  {
   "cell_type": "code",
   "execution_count": null,
   "metadata": {
    "deletable": false,
    "nbgrader": {
     "cell_type": "code",
     "checksum": "cd97eb787883599ea8ebc7653ecf8dd9",
     "grade": false,
     "grade_id": "cell-429bf5b7ffbb89e3",
     "locked": false,
     "schema_version": 3,
     "solution": true,
     "task": false
    }
   },
   "outputs": [],
   "source": [
    "# answer2.2 <- ...\n",
    "\n",
    "# your code here\n",
    "fail() # No Answer - remove if you provide an answer"
   ]
  },
  {
   "cell_type": "code",
   "execution_count": null,
   "metadata": {
    "deletable": false,
    "editable": false,
    "nbgrader": {
     "cell_type": "code",
     "checksum": "d8d8d9e7231f5c2d74b151e4e083bf8e",
     "grade": true,
     "grade_id": "cell-191c4f6b4b8c3368",
     "locked": true,
     "points": 1,
     "schema_version": 3,
     "solution": false,
     "task": false
    }
   },
   "outputs": [],
   "source": [
    "test_2.2()"
   ]
  },
  {
   "cell_type": "markdown",
   "metadata": {
    "deletable": false,
    "editable": false,
    "nbgrader": {
     "cell_type": "markdown",
     "checksum": "9b90a2152fc666e27ab2211a8e758363",
     "grade": false,
     "grade_id": "cell-264c532bdaa7bf42",
     "locked": true,
     "schema_version": 3,
     "solution": false,
     "task": false
    }
   },
   "source": [
    "## 2.1 The model\n",
    "\n",
    "We will begin by modeling the cancer mortality rate as a *linear* function of poverty. Note that this relation is not exact or true. Is it reasonable to *assume* that the cancer mortality changes *at a constant rate* with the percentage of populace poverty? \n",
    "\n",
    "In this stage of the analysis we will examine this assumption and estimate the corresponding **Simple Linear Regression** (SLR). Define:\n",
    "\n",
    "- $Y$: the response variable\n",
    "\n",
    "   - in our example: the cancer mortality per capita \n",
    "\n",
    "- $X$: the input variable\n",
    "\n",
    "    - in our example: percentage of the populace in poverty \n",
    "    \n",
    "> \"Simple\" means that there's a single continuous input variable in the model    \n",
    "\n",
    "### Linearity Assumption\n",
    "\n",
    "#### The conditional expectation: $E[Y|X] = \\beta_0 + \\beta_1 X$\n",
    "\n",
    "- in our example: $E[\\text{mortality}|\\text{poverty}] = \\beta_0 + \\beta_1 \\text{povery}$\n",
    "\n",
    "#### <font color=\"blue\">  The conditional expectation of the response is linearly related to the input variable and the line is the *linear regression*</font>\n",
    "\n",
    "> **NOTE 1**: some textbooks ignore the \"conditional\" statement assuming that $X$ is not random\n",
    "\n",
    "> **NOTE 2**: This is not the only way to model the conditional expectation! If the true conditional expectation is not linear, other methods will be better to predict the response! For example: in DSCI100, you have used `kNN`!\n",
    "\n",
    "### Terminology\n",
    "\n",
    "- **The response variable: $Y$**\n",
    "\n",
    "Also known as: **output**, **explained variable**, **dependent variable**\n",
    "\n",
    "- **The input variable(s): $X$**\n",
    "\n",
    "Also known as: **output**, **explanatory variables**, **independent variable**, **covariates**, **features**\n",
    "\n",
    "- **The regression coefficients: $\\beta_0, \\; \\beta_1$**\n",
    "\n",
    "The true intercept and the slope of the line are called **regression parameters or coefficients** \n",
    "\n",
    "> <font color=\"blue\"> IMPORTANT: The population parameters are *unknown* and *non-random*.</font> **We will use a sample to estimate them using the `lm` function in R**"
   ]
  },
  {
   "cell_type": "markdown",
   "metadata": {
    "deletable": false,
    "editable": false,
    "nbgrader": {
     "cell_type": "markdown",
     "checksum": "7883f6e266b507d3d42e1e98151b5521",
     "grade": false,
     "grade_id": "cell-8b6239aadc3aeeb8",
     "locked": true,
     "schema_version": 3,
     "solution": false,
     "task": false
    }
   },
   "source": [
    "# 3. Estimation of the regression line\n",
    "\n",
    "**The true regression parameter are unknown!** so we *use data* from a random sample to *estimate them!!*"
   ]
  },
  {
   "cell_type": "markdown",
   "metadata": {
    "deletable": false,
    "editable": false,
    "nbgrader": {
     "cell_type": "markdown",
     "checksum": "063acd329f481897f903c7da04c3742e",
     "grade": false,
     "grade_id": "cell-93e9a51d61ab3cd2",
     "locked": true,
     "schema_version": 3,
     "solution": false,
     "task": false
    }
   },
   "source": [
    "Let ${(X_i,Y_i): i = 1, \\ldots , n}$ be a <font color=\"red\">random sample</font> of size $n$ from the population\n",
    "\n",
    "In our example:\n",
    "\n",
    "- $Y_i$: the cancer mortality per capita for the $i$th county\n",
    "\n",
    "- $X_i$: percentage of the populace in poverty for the $i$th county\n",
    "\n",
    "> Note that the response and input are indexed by $i$ which could take on the following values: $1 , \\dots, n$ to identify the $i$th county in the data.\n",
    "\n",
    "Observations from a random sample won't be perfectly lined, but we can assume that:\n",
    "\n",
    "$$Y_i = \\beta_0 + \\beta_1 X_i + \\varepsilon_i,$$\n",
    "\n",
    "#### The error term: $\\varepsilon_i$\n",
    "\n",
    "The error term contains all factors that deviate $Y_i$ from its conditional expected value:\n",
    "\n",
    "$$\\varepsilon_i = Y_i - (\\beta_0 + \\beta_1 X_i) = Y_i - E[Y_i|X_i]$$ \n",
    "\n",
    "> **Heads up**: Note that $\\varepsilon$ is a random variable!\n",
    "\n",
    "- We assume that this random variable is centered at $0$, $E(\\varepsilon) = 0$, and has a variance denoted by $\\text{Var}(\\varepsilon) = \\sigma^2$\n",
    "\n",
    "- We assume that these random errors are independent and identically distributed: *iid assumption*\n",
    "    - as any other assumption, it may not hold or may not be a good assumption\n",
    "\n",
    "- Note that any distributional assumption made about the error term also affect the random variable $Y$\n",
    "    - for example, if you assume that $\\varepsilon$ is a Normal random variable, then $Y$ would also be Normal\n",
    "\n",
    "> <font color=\"blue\"> **IMPORTANT: the population parameters are *unknown* and *non-random*.</font> How can we use data to estimate them??**\n",
    "\n",
    "#### but how ...???"
   ]
  },
  {
   "cell_type": "markdown",
   "metadata": {
    "deletable": false,
    "editable": false,
    "nbgrader": {
     "cell_type": "markdown",
     "checksum": "b57c6256a80b7595e80efcc5fe9563d7",
     "grade": false,
     "grade_id": "cell-281afae81a6a20c5",
     "locked": true,
     "schema_version": 3,
     "solution": false,
     "task": false
    }
   },
   "source": [
    "There is an infinite number of lines to choose from ...\n",
    "\n",
    "#### Which one is the best line??"
   ]
  },
  {
   "cell_type": "code",
   "execution_count": null,
   "metadata": {
    "deletable": false,
    "editable": false,
    "nbgrader": {
     "cell_type": "code",
     "checksum": "4d726ac95ebb7e50de24a0b38085c404",
     "grade": false,
     "grade_id": "cell-268c65ead72e509c",
     "locked": true,
     "schema_version": 3,
     "solution": false,
     "task": false
    }
   },
   "outputs": [],
   "source": [
    "US_cancer_data %>% ggplot(aes(povertyPercent, TARGET_deathRate)) + theme(axis.text.x = element_text(angle = 90))+\n",
    "    geom_point()+ \n",
    "    geom_abline(intercept=145,slope=1.5, size=2, col = \"blue\")+\n",
    "    geom_abline(intercept=200,slope=-1, size=2, col = \"orange\")+\n",
    "    geom_abline(intercept=100,slope=5, size=2, col = \"red\")+\n",
    "    geom_abline(intercept=155,slope=1.2, size=2, col = \"green\")+\n",
    "    geom_abline(intercept=147,slope=1.9, size=2, col = \"purple\")+\n",
    "    xlab(\"Populace in Poverty (%)\") +\n",
    "    ylab(\"Cancer Mortality per Capita (cases/100,000)\")"
   ]
  },
  {
   "cell_type": "markdown",
   "metadata": {
    "deletable": false,
    "editable": false,
    "nbgrader": {
     "cell_type": "markdown",
     "checksum": "a6b705caa5ee1c73be1564354efff5b7",
     "grade": false,
     "grade_id": "cell-2b158505c3861cdb",
     "locked": true,
     "schema_version": 3,
     "solution": false,
     "task": false
    }
   },
   "source": [
    "**Question 3.0**\n",
    "<br>{points: 1}\n",
    "\n",
    "How would you choose the **best line**? \n",
    "\n",
    "**A.** The line that contains most data points \n",
    "\n",
    "**B.** The line that minimizes the distance of the points to the line \n",
    "\n",
    "**C.** The line that looks the best upon visual inspection\n",
    "\n",
    "*Assign your answer to an object called `answer3.0`. Your answer should be one of `\"A\"`, `\"B\"`, or `\"C\"` surrounded by quotes.*"
   ]
  },
  {
   "cell_type": "code",
   "execution_count": null,
   "metadata": {
    "deletable": false,
    "nbgrader": {
     "cell_type": "code",
     "checksum": "74acef206f3306df3e3df45c5bb134b3",
     "grade": false,
     "grade_id": "cell-b459136dda679dcc",
     "locked": false,
     "schema_version": 3,
     "solution": true,
     "task": false
    }
   },
   "outputs": [],
   "source": [
    "# answer3.0 <- ...\n",
    "\n",
    "# your code here\n",
    "fail() # No Answer - remove if you provide an answer"
   ]
  },
  {
   "cell_type": "code",
   "execution_count": null,
   "metadata": {
    "deletable": false,
    "editable": false,
    "nbgrader": {
     "cell_type": "code",
     "checksum": "ba5d1fde6bb970feee0c3bc672ff3135",
     "grade": true,
     "grade_id": "cell-cd9fd974ce85c373",
     "locked": true,
     "points": 1,
     "schema_version": 3,
     "solution": false,
     "task": false
    }
   },
   "outputs": [],
   "source": [
    "test_3.0()"
   ]
  },
  {
   "cell_type": "markdown",
   "metadata": {
    "deletable": false,
    "editable": false,
    "nbgrader": {
     "cell_type": "markdown",
     "checksum": "88083b5e175916634278841397e25c6b",
     "grade": false,
     "grade_id": "cell-c4485d13b5cbfabd",
     "locked": true,
     "schema_version": 3,
     "solution": false,
     "task": false
    }
   },
   "source": [
    "To define the **best line** we need to know how to measure the distance of the points to the line! Which of the following criteria would you choose to define \"distance of a point to the line\"?? \n",
    "\n",
    "> **Note**: discuss with your choice with your neighbour, more than one option can be possible\n",
    "\n",
    "![](img/dist.png)\n",
    "\n",
    "Figure by Prof. Joel Ostblom"
   ]
  },
  {
   "cell_type": "markdown",
   "metadata": {
    "deletable": false,
    "editable": false,
    "nbgrader": {
     "cell_type": "markdown",
     "checksum": "b0606dc941d1bc81b5e96fee01fed42f",
     "grade": false,
     "grade_id": "cell-b3e44c5c1ce6881e",
     "locked": true,
     "schema_version": 3,
     "solution": false,
     "task": false
    }
   },
   "source": [
    "> **Option B** measures the distance in the response $Y_i$ to its expected value"
   ]
  },
  {
   "cell_type": "markdown",
   "metadata": {
    "deletable": false,
    "editable": false,
    "nbgrader": {
     "cell_type": "markdown",
     "checksum": "5289ade3d1e731fc2f84366a8e212a77",
     "grade": false,
     "grade_id": "cell-75a0cc9bec263ff2",
     "locked": true,
     "schema_version": 3,
     "solution": false,
     "task": false
    }
   },
   "source": [
    "![image.png](img/LS_ISL.png)\n",
    "\n",
    "From An Introduction to Statistical Learning, by James, Witten, Hastie and Tibshirani "
   ]
  },
  {
   "cell_type": "markdown",
   "metadata": {
    "deletable": false,
    "editable": false,
    "nbgrader": {
     "cell_type": "markdown",
     "checksum": "afe308f0f791fdfb4fbded9b3f451a4d",
     "grade": false,
     "grade_id": "cell-1dfa03dc1c34b14c",
     "locked": true,
     "schema_version": 3,
     "solution": false,
     "task": false
    }
   },
   "source": [
    "### 3.1 Least Squares (LS) method \n",
    "\n",
    "Many methods can be used to estimate the true regression line depending on the criteria used to define \"optimal\"!\n",
    "\n",
    "**Least Squares method** minimizes the sum of the *squares of the residuals*!!\n",
    "\n",
    "#### Residual \n",
    "\n",
    "The residual of an observation is the difference between its response value and its predicted response on the line (dotted vertical line in **B**)\n",
    "\n",
    "> **Note**: discuss why the **residual** is different from the **error term**. \n",
    "\n",
    "#### Check [this application](http://setosa.io/ev/ordinary-least-squares-regression/)"
   ]
  },
  {
   "cell_type": "markdown",
   "metadata": {
    "deletable": false,
    "editable": false,
    "nbgrader": {
     "cell_type": "markdown",
     "checksum": "b9aa08b0510e6e48011ff16215bd016a",
     "grade": false,
     "grade_id": "cell-f86b3d1e24441d05",
     "locked": true,
     "schema_version": 3,
     "solution": false,
     "task": false
    }
   },
   "source": [
    "# 4. LS in R\n",
    "\n",
    "The parameters of the linear model, a.k.a. regression coefficients, can be estimated through **ordinary least squares**! We will use the `lm` function in R to obtain estimates using the data in `US_cancer_data`.\n",
    "\n",
    "> **Heads up**: LS is not the only method to estimate the regression coefficients. However, it is the default method in `lm`\n",
    "\n",
    "The relevant arguments are:\n",
    "\n",
    "- `formula`: takes the form `response ~ input`.\n",
    "- `data`: takes a data frame in tidy format.\n",
    "\n",
    "> **Note**: `lm(response ~ .,data= df)` uses all variables in the dataset `df`, except the `response`, as predictors \n",
    "\n",
    "> **Note**: `lm(response ~ input - 1,data= df)` forces the estimated intercept to be 0. Never do this unless you know what you are doing and why. \n",
    "\n",
    "In this dataset we have sample of size in $n = 3047$ to estimate the regression coefficients. \n",
    "\n",
    "To examine the properties of the estimator let's start with a smaller sample and see what happens as the sample size increases."
   ]
  },
  {
   "cell_type": "markdown",
   "metadata": {
    "deletable": false,
    "editable": false,
    "nbgrader": {
     "cell_type": "markdown",
     "checksum": "1321227adcbdd57b881e2c5ed5a8ba17",
     "grade": false,
     "grade_id": "cell-6343bf91f6dd54a9",
     "locked": true,
     "schema_version": 3,
     "solution": false,
     "task": false
    }
   },
   "source": [
    "**Question 4.0**\n",
    "<br>{points: 1}\n",
    "\n",
    "From the pool of American counties `US_cancer_data`, collect one random sample of size `250` and call it `US_cancer_sample250`.\n",
    "\n",
    "*Fill out those parts indicated with `...`, uncomment the corresponding code in the cell below, and run it.*"
   ]
  },
  {
   "cell_type": "code",
   "execution_count": null,
   "metadata": {
    "deletable": false,
    "nbgrader": {
     "cell_type": "code",
     "checksum": "da41b0b54b12c93c80d28101a22d755c",
     "grade": false,
     "grade_id": "cell-ecd77df8d80a2f0c",
     "locked": false,
     "schema_version": 3,
     "solution": true,
     "task": false
    }
   },
   "outputs": [],
   "source": [
    "set.seed(123) # DO NOT CHANGE!\n",
    "\n",
    "# US_cancer_sample250 <- ...(..., size = ...)\n",
    "\n",
    "# your code here\n",
    "fail() # No Answer - remove if you provide an answer\n",
    "\n",
    "head(US_cancer_sample250)"
   ]
  },
  {
   "cell_type": "code",
   "execution_count": null,
   "metadata": {
    "deletable": false,
    "editable": false,
    "nbgrader": {
     "cell_type": "code",
     "checksum": "dac340eb33930fe3d8901ecd7a383ad3",
     "grade": true,
     "grade_id": "cell-d2d2ec2ce9fbba53",
     "locked": true,
     "points": 1,
     "schema_version": 3,
     "solution": false,
     "task": false
    }
   },
   "outputs": [],
   "source": [
    "test_4.0()"
   ]
  },
  {
   "cell_type": "markdown",
   "metadata": {
    "deletable": false,
    "editable": false,
    "nbgrader": {
     "cell_type": "markdown",
     "checksum": "4150d23abd578673090644106d1b389b",
     "grade": false,
     "grade_id": "cell-1e2f57ba013fa9eb",
     "locked": true,
     "schema_version": 3,
     "solution": false,
     "task": false
    }
   },
   "source": [
    "**Question 4.1**\n",
    "<br>{points: 1}\n",
    "\n",
    "It is time to use `R` for estimating the SLR using `US_cancer_sample250`. This estimated model can be used to evaluate if there exist a linear association between cancer mortality and poverty.\n",
    "\n",
    "Use the `lm()` function to estimate the SLR. \n",
    "\n",
    "Store this estimated model in the variable `SLR_cancer_sample250`.\n",
    "\n",
    "*Fill out those parts indicated with `...`, uncomment the corresponding code in the cell below, and run it.*"
   ]
  },
  {
   "cell_type": "code",
   "execution_count": null,
   "metadata": {
    "deletable": false,
    "nbgrader": {
     "cell_type": "code",
     "checksum": "54cad00e26c4cffddf8d04215a26e2ce",
     "grade": false,
     "grade_id": "cell-ea84f46f9ddc7886",
     "locked": false,
     "schema_version": 3,
     "solution": true,
     "task": false
    }
   },
   "outputs": [],
   "source": [
    "# SLR_cancer_sample250 <- ...(formula = , data = ...)\n",
    "# SLR_cancer_sample250\n",
    "\n",
    "# your code here\n",
    "fail() # No Answer - remove if you provide an answer"
   ]
  },
  {
   "cell_type": "code",
   "execution_count": null,
   "metadata": {
    "deletable": false,
    "editable": false,
    "nbgrader": {
     "cell_type": "code",
     "checksum": "6ce1ea34b70ac38926d5036e44aa267b",
     "grade": true,
     "grade_id": "cell-b1563dd87c648835",
     "locked": true,
     "points": 1,
     "schema_version": 3,
     "solution": false,
     "task": false
    }
   },
   "outputs": [],
   "source": [
    "test_4.1()"
   ]
  },
  {
   "cell_type": "markdown",
   "metadata": {
    "deletable": false,
    "editable": false,
    "nbgrader": {
     "cell_type": "markdown",
     "checksum": "d8bcfe1e17cfe9f8d74d7092f8dad1f3",
     "grade": false,
     "grade_id": "cell-693852746e885690",
     "locked": true,
     "schema_version": 3,
     "solution": false,
     "task": false
    }
   },
   "source": [
    "### The estimated slope\n",
    "\n",
    "The estimated slope: $\\hat{\\beta}_1=1.52$ \n",
    "\n",
    "> the \"hat\" indicates that this is an *estimated slope* based on the data, not the *true* slope!!\n",
    "\n",
    "\n",
    "#### Interpretation:\n",
    "\n",
    "- **Correct**: A 1 percent increase in the input variable *is associated* with a $\\hat{\\beta}_1$ change in the response\n",
    "\n",
    "\n",
    "- **Correct**: A $\\hat{\\beta}_1$ change in the response is expected for every 1 percent increase in the input variable \n",
    "\n",
    "\n",
    "- **Wrong**: A 1 percent increase in the input variable *causes* a $\\hat{\\beta}_1$ change in the response\n"
   ]
  },
  {
   "cell_type": "markdown",
   "metadata": {
    "deletable": false,
    "editable": false,
    "nbgrader": {
     "cell_type": "markdown",
     "checksum": "c07f402abdf04f8ae09314697b5e89cb",
     "grade": false,
     "grade_id": "cell-c9a30db9a6663208",
     "locked": true,
     "schema_version": 3,
     "solution": false,
     "task": false
    }
   },
   "source": [
    "### The estimated intercept\n",
    "\n",
    "The estimated intercept: $\\hat{\\beta}_0=153.04$ \n",
    "\n",
    "> the \"hat\" indicates that this is an *estimated intercept* based on the data, not the *true* intercept!!\n",
    "\n",
    "\n",
    "- We are not usually interested in this parameter. However, it is important to include an intercept in the LR!! \n",
    "\n",
    "\n",
    "- It may not even be realistic in the context of the study. It's really an interpolated value of our model\n",
    "\n",
    "\n",
    "#### Interpretation:\n",
    "\n",
    "- It measures the expected response when the input variable is $0$!!\n",
    "\n",
    "- Note that if the predictor is centered, $X_{i}-\\bar{X}$, then the intercept represents the expected response for an average input value.\n",
    "\n",
    "\n",
    "#### <font color=\"red\"> Important: many statistical properties do not hold for models without intercept! </font>"
   ]
  },
  {
   "cell_type": "markdown",
   "metadata": {
    "deletable": false,
    "editable": false,
    "nbgrader": {
     "cell_type": "markdown",
     "checksum": "1c1b6e466358c803325529b5d2cb5dc5",
     "grade": false,
     "grade_id": "cell-cc795e1b37ab4190",
     "locked": true,
     "schema_version": 3,
     "solution": false,
     "task": false
    }
   },
   "source": [
    "**Question 4.2**\n",
    "<br>{points: 1}\n",
    "\n",
    "What is the correct interpretation of the regression estimated slope in `SLR_cancer_sample250_results`?\n",
    "\n",
    "**A.** The effect of a one percent increase of the county's populace in poverty is 1.52 increase in the cancer mortality per capita (cases/100,000).\n",
    "\n",
    "**B.** One percent increase of the county's populace in poverty causes 1.52 increase in cancer mortality per capita (cases/100,000).\n",
    "\n",
    "**C.** The expected cancer mortality per capita (cases/100,000) increases by 1.52 per one percent increase of the county's populace in poverty.\n",
    "\n",
    "*Assign your answer to an object called `answer4.2`. Your answer should be one of `\"A\"`, `\"B\"`, or `\"C\"` surrounded by quotes.*"
   ]
  },
  {
   "cell_type": "code",
   "execution_count": null,
   "metadata": {
    "deletable": false,
    "nbgrader": {
     "cell_type": "code",
     "checksum": "2f6cab950278124ac99032490840c62a",
     "grade": false,
     "grade_id": "cell-230aae9574584b5d",
     "locked": false,
     "schema_version": 3,
     "solution": true,
     "task": false
    }
   },
   "outputs": [],
   "source": [
    "# answer4.2 <- ...\n",
    "\n",
    "# your code here\n",
    "fail() # No Answer - remove if you provide an answer"
   ]
  },
  {
   "cell_type": "code",
   "execution_count": null,
   "metadata": {
    "deletable": false,
    "editable": false,
    "nbgrader": {
     "cell_type": "code",
     "checksum": "60d2bc51dd8c3dbfe1a1c6c7c9f2ca5c",
     "grade": true,
     "grade_id": "cell-1d526f4a65786abe",
     "locked": true,
     "points": 1,
     "schema_version": 3,
     "solution": false,
     "task": false
    }
   },
   "outputs": [],
   "source": [
    "test_4.2()"
   ]
  },
  {
   "cell_type": "markdown",
   "metadata": {
    "deletable": false,
    "editable": false,
    "nbgrader": {
     "cell_type": "markdown",
     "checksum": "5a65fbc8257a0a3e8ded44a3020cdc6d",
     "grade": false,
     "grade_id": "cell-7356073895d41169",
     "locked": true,
     "schema_version": 3,
     "solution": false,
     "task": false
    }
   },
   "source": [
    "### Visualization of the estimated line"
   ]
  },
  {
   "cell_type": "markdown",
   "metadata": {
    "deletable": false,
    "editable": false,
    "nbgrader": {
     "cell_type": "markdown",
     "checksum": "b9bae70c218998294a3c588552a4cd27",
     "grade": false,
     "grade_id": "cell-11a76c9e8ed8deca",
     "locked": true,
     "schema_version": 3,
     "solution": false,
     "task": false
    }
   },
   "source": [
    "**Question 4.3**\n",
    "<br>{points: 1}\n",
    "\n",
    "Using `US_cancer_sample250`, we can plot `TARGET_death_rate` versus `povertyPercent` **with points** and add the estimated SLR. The `ggplot()` object's name will be `SLR_cancer_sample250_plot`\n",
    "\n",
    "*Fill out those parts indicated with `...`, uncomment the corresponding code in the cell below, and run it.*"
   ]
  },
  {
   "cell_type": "code",
   "execution_count": null,
   "metadata": {
    "deletable": false,
    "nbgrader": {
     "cell_type": "code",
     "checksum": "97382d92b0883be8205f2963f38b5408",
     "grade": false,
     "grade_id": "cell-004d6fa208dffe3c",
     "locked": false,
     "schema_version": 3,
     "solution": true,
     "task": false
    }
   },
   "outputs": [],
   "source": [
    "# SLR_cancer_sample250_plot <- ggplot(..., aes(..., ...)) +\n",
    "#   ...() +\n",
    "#   ...(aes(..., ...), ..., se = FALSE, size = 1.5) +\n",
    "#   coord_cartesian(xlim = c(0, 50), ylim = c(50, 400)) +\n",
    "#   xlab(...) +\n",
    "#   ylab(...) +\n",
    "#   ggtitle(\"Sample Scatterplot and Estimated SLR\") +\n",
    "#   theme(\n",
    "#     text = element_text(size = 16.5),\n",
    "#     plot.title = element_text(face = \"bold\"),\n",
    "#     axis.title = element_text(face = \"bold\")\n",
    "#   )\n",
    "\n",
    "\n",
    "# your code here\n",
    "fail() # No Answer - remove if you provide an answer"
   ]
  },
  {
   "cell_type": "code",
   "execution_count": null,
   "metadata": {
    "deletable": false,
    "editable": false,
    "nbgrader": {
     "cell_type": "code",
     "checksum": "158101585aa4b3c74609bfdc8c3a4ec2",
     "grade": true,
     "grade_id": "cell-623838e992d12dcf",
     "locked": true,
     "points": 1,
     "schema_version": 3,
     "solution": false,
     "task": false
    }
   },
   "outputs": [],
   "source": [
    "test_4.3()"
   ]
  },
  {
   "cell_type": "markdown",
   "metadata": {
    "deletable": false,
    "editable": false,
    "nbgrader": {
     "cell_type": "markdown",
     "checksum": "353eb094d01195e1e47d945ed10466c3",
     "grade": false,
     "grade_id": "cell-90c1efbcff5d2739",
     "locked": true,
     "schema_version": 3,
     "solution": false,
     "task": false
    }
   },
   "source": [
    "**Question 4.4**\n",
    "<br>{points: 1}\n",
    "\n",
    "Considering the SLR model estimated in this exercise, which of the following questions relates to inference and estimation, and which relates to prediction? \n",
    "\n",
    "| **Question** | **Type** |\n",
    "| ------------------------------- | ----------------------- |\n",
    "| How can we determine an association between the expected cancer mortality per capita (cases/100,000) and the county’s populace living in poverty of all American counties? | `answer4.4.0` |\n",
    "| We observe a new American county with 14% of its populace living in poverty. What cancer mortality per capita (cases/100,000) should we expect? | `answer4.4.1` |\n",
    "\n",
    "The right column of the table is empty but should describe one of the following: \n",
    "\n",
    "**A.** Prediction.\n",
    "\n",
    "**B.** Inference and estimation.\n",
    "\n",
    "*Assign your answers to the objects `answer4.4.0` and `answer4.4.1`. Your answer should each be a single character (`\"A\"` or `\"B\"`) surrounded by quotes.*"
   ]
  },
  {
   "cell_type": "code",
   "execution_count": null,
   "metadata": {
    "deletable": false,
    "nbgrader": {
     "cell_type": "code",
     "checksum": "a07c2eae3af37a4cc7b5eff57f4e5d9f",
     "grade": false,
     "grade_id": "cell-48589f0e8415d279",
     "locked": false,
     "schema_version": 3,
     "solution": true,
     "task": false
    }
   },
   "outputs": [],
   "source": [
    "# answer4.4.0 <- ...\n",
    "# answer4.4.1 <- ...\n",
    "\n",
    "# your code here\n",
    "fail() # No Answer - remove if you provide an answer"
   ]
  },
  {
   "cell_type": "code",
   "execution_count": null,
   "metadata": {
    "deletable": false,
    "editable": false,
    "nbgrader": {
     "cell_type": "code",
     "checksum": "f0f064ac164e37fdd656ef72b475381a",
     "grade": true,
     "grade_id": "cell-c2bcf367549a3797",
     "locked": true,
     "points": 1,
     "schema_version": 3,
     "solution": false,
     "task": false
    }
   },
   "outputs": [],
   "source": [
    "test_4.4()"
   ]
  },
  {
   "cell_type": "markdown",
   "metadata": {
    "deletable": false,
    "editable": false,
    "nbgrader": {
     "cell_type": "markdown",
     "checksum": "5897dc98730e18a75a3e8f895f0e0ad4",
     "grade": false,
     "grade_id": "cell-e24077061b7962f7",
     "locked": true,
     "schema_version": 3,
     "solution": false,
     "task": false
    }
   },
   "source": [
    "# PART II: Inference"
   ]
  },
  {
   "cell_type": "markdown",
   "metadata": {
    "deletable": false,
    "editable": false,
    "nbgrader": {
     "cell_type": "markdown",
     "checksum": "eef37a1b2480761d1b4375b24b7bca5f",
     "grade": false,
     "grade_id": "cell-298b195aadb7b3e9",
     "locked": true,
     "schema_version": 3,
     "solution": false,
     "task": false
    }
   },
   "source": [
    "# 5. Inference \n",
    "\n",
    "The estimated intercept and slope in `SLR_cancer_sample250_results` are computed using the $n = 250$ sampled observations from `US_cancer_data`. \n",
    "\n",
    "In other words, we used data from a *random sample* to compute *point estimates* of the *population regression parameters* ($\\beta_0$ and $\\beta_1$) using *least squares estimators* ($\\hat{\\beta}_0$ and $\\hat{\\beta}_1$)\n",
    "\n",
    "Since $\\hat{\\beta}_0$ and $\\hat{\\beta}_1$ are computed from a random sample, they are random variables themselves!  "
   ]
  },
  {
   "cell_type": "markdown",
   "metadata": {
    "deletable": false,
    "editable": false,
    "nbgrader": {
     "cell_type": "markdown",
     "checksum": "a59e857bfe4b214a7ca9c939845ca57c",
     "grade": false,
     "grade_id": "cell-3c4512572e3afc55",
     "locked": true,
     "schema_version": 3,
     "solution": false,
     "task": false
    }
   },
   "source": [
    "### Parameter *vs* Estimator *vs* Estimate \n",
    "\n",
    "\n",
    "#### 3 important different concepts:  \n",
    "\n",
    "| **Course** | **Population Parameter** | **Estimator** | **Estimate** |\n",
    "| -------------------------------| ------------------------------- | ------------------------------- | ----------------------- |\n",
    "|  | unknown quantity| function of the random sample: *random variable*| real number computed with data (non-random) |\n",
    "| STAT 201 | mean = $E[Y]$| sample mean = $\\bar{Y}$| 153.04 |\n",
    "| STAT 301 | slope = $\\beta_1$| estimator of the slope = $\\hat{\\beta}_1 = \\frac{\\sum_{i=1}^n(X_i-\\bar{X})(Y_i-\\bar{Y})}{\\sum_{i=1}^n(X_i-\\bar{X})^2}$ | 1.52 |\n",
    "\n",
    "\n",
    "> **Note**: usually $\\hat{\\beta}_0$ and $\\hat{\\beta}_1$ are used for both the estimates and the estimators, which can be confusing"
   ]
  },
  {
   "cell_type": "markdown",
   "metadata": {
    "deletable": false,
    "editable": false,
    "nbgrader": {
     "cell_type": "markdown",
     "checksum": "5d304186e29655aa0e6992ddcfbdd3bd",
     "grade": false,
     "grade_id": "cell-c73ed4b937081d6a",
     "locked": true,
     "schema_version": 3,
     "solution": false,
     "task": false
    }
   },
   "source": [
    "We can think that the *estimates* are (good) guesses about the population parameters based on our data. However,  the values of the estimates depend on the random sample used to compute them:\n",
    "\n",
    "> **Important**: different samples yield different estimates!!\n",
    "\n",
    "Let's see an example! Recall the estimates we obtained with the sample taken:"
   ]
  },
  {
   "cell_type": "code",
   "execution_count": null,
   "metadata": {
    "deletable": false,
    "editable": false,
    "nbgrader": {
     "cell_type": "code",
     "checksum": "4e725c8a1c4dd13f504a9825eb0bb49d",
     "grade": false,
     "grade_id": "cell-103fb55d72933468",
     "locked": true,
     "schema_version": 3,
     "solution": false,
     "task": false
    }
   },
   "outputs": [],
   "source": [
    "SLR_sample250_0 <- tidy(lm(formula = TARGET_deathRate ~ povertyPercent, data = US_cancer_sample250)) %>% select(estimate)\n",
    "many_SLR <- SLR_sample250_0 \n",
    "many_SLR"
   ]
  },
  {
   "cell_type": "markdown",
   "metadata": {
    "deletable": false,
    "editable": false,
    "nbgrader": {
     "cell_type": "markdown",
     "checksum": "72765eff77f474339fca6782ac992be2",
     "grade": false,
     "grade_id": "cell-6535c30895a53ccd",
     "locked": true,
     "schema_version": 3,
     "solution": false,
     "task": false
    }
   },
   "source": [
    "Take *another sample* from the full dataset and estimate the regression line\n",
    "\n",
    "> **Important**: In practice, we will rarely take multiple samples!\n",
    "\n",
    "> **NOTE**: This is NOT bootstrapping!! Why??"
   ]
  },
  {
   "cell_type": "code",
   "execution_count": null,
   "metadata": {
    "deletable": false,
    "editable": false,
    "nbgrader": {
     "cell_type": "code",
     "checksum": "184ad931446ed988892ed1b83ed10902",
     "grade": false,
     "grade_id": "cell-4485e6151bc62eb9",
     "locked": true,
     "schema_version": 3,
     "solution": false,
     "task": false
    }
   },
   "outputs": [],
   "source": [
    "set.seed(301)\n",
    "\n",
    "US_cancer_sample250_1 <- rep_sample_n(US_cancer_data, size = 250)\n"
   ]
  },
  {
   "cell_type": "code",
   "execution_count": null,
   "metadata": {
    "deletable": false,
    "editable": false,
    "nbgrader": {
     "cell_type": "code",
     "checksum": "a8eee35d70b21540268a1ff78df9b005",
     "grade": false,
     "grade_id": "cell-3a8d370d09a8e5ad",
     "locked": true,
     "schema_version": 3,
     "solution": false,
     "task": false
    }
   },
   "outputs": [],
   "source": [
    "# ANOTHER POINT ESTIMATES\n",
    "\n",
    "SLR_sample250_1 <- tidy(lm(formula = TARGET_deathRate ~ povertyPercent, data = US_cancer_sample250_1))  %>% select(estimate)\n",
    "many_SLR <- many_SLR %>% bind_cols(SLR_sample250_1)\n",
    "many_SLR"
   ]
  },
  {
   "cell_type": "code",
   "execution_count": null,
   "metadata": {
    "deletable": false,
    "editable": false,
    "nbgrader": {
     "cell_type": "code",
     "checksum": "be141f5618073a587a7d6de82bbe73fd",
     "grade": false,
     "grade_id": "cell-bb611db621ae47fd",
     "locked": true,
     "schema_version": 3,
     "solution": false,
     "task": false
    }
   },
   "outputs": [],
   "source": [
    "set.seed(30)\n",
    "\n",
    "US_cancer_sample250_2 <- rep_sample_n(US_cancer_data, size = 250)"
   ]
  },
  {
   "cell_type": "code",
   "execution_count": null,
   "metadata": {
    "deletable": false,
    "editable": false,
    "nbgrader": {
     "cell_type": "code",
     "checksum": "2e64cc91e0e9edcbf154a09c3d11a7eb",
     "grade": false,
     "grade_id": "cell-bff2112896f5ac31",
     "locked": true,
     "schema_version": 3,
     "solution": false,
     "task": false
    }
   },
   "outputs": [],
   "source": [
    "# ANOTHER POINT ESTIMATES\n",
    "\n",
    "SLR_sample250_2 <- tidy(lm(formula = TARGET_deathRate ~ povertyPercent, data = US_cancer_sample250_2))  %>% select(estimate)\n",
    "many_SLR <- many_SLR  %>% bind_cols(SLR_sample250_2)\n",
    "many_SLR"
   ]
  },
  {
   "cell_type": "markdown",
   "metadata": {
    "deletable": false,
    "editable": false,
    "nbgrader": {
     "cell_type": "markdown",
     "checksum": "7a8c6c35585bdd0a294dccf59834cd32",
     "grade": false,
     "grade_id": "cell-2e1e8a7cab7c4b20",
     "locked": true,
     "schema_version": 3,
     "solution": false,
     "task": false
    }
   },
   "source": [
    "#### and so on .... as we take new samples we get different *estimates* of the regression parameters\n",
    "\n",
    "> **Important**: what is the sample-to-sample variation??\n",
    "\n",
    "### 5.1. The standard error!!\n",
    "\n",
    "The variation of these estimates from sample to sample is measured by their standard deviation, which has a special name: *the standard error* (SE)\n",
    "\n",
    "> But in practice, how can we compute the standard error if we have only 1 sample?? \n",
    "\n",
    "We have different ways of answering this question:\n",
    "\n",
    "1. take multiple samples from the population and compute multiple estimates as we did above. Then compute their SD. But this is *not a realistic option*  \n",
    "\n",
    "2. use a theoretical result! This is what `lm` does!!\n",
    "\n",
    "3. use bootstrapping!! As you did in STAT 201 for other quantities!! This is what we will also do in STAT 301"
   ]
  },
  {
   "cell_type": "markdown",
   "metadata": {
    "deletable": false,
    "editable": false,
    "nbgrader": {
     "cell_type": "markdown",
     "checksum": "f6d502b6b58204a5481b5e06dd729477",
     "grade": false,
     "grade_id": "cell-7b727dcdc90f2a93",
     "locked": true,
     "schema_version": 3,
     "solution": false,
     "task": false
    }
   },
   "source": [
    "**Question 5.1.0**\n",
    "<br>{points: 1}\n",
    "\n",
    "Use the `broom` package's `tidy()` to obtain the estimated coefficients, associated standard errors, $t$-statistics, and $p$-values obtained from the random sample `SLR_cancer_sample250`. \n",
    "\n",
    "Store them in the variable `SLR_cancer_sample250_results` whose columns are the following:\n",
    "\n",
    "- The first column has the names of the regression terms.\n",
    "\n",
    "- The second column shows the values of the estimated coefficients of the regression line, $\\hat{\\beta}_0$ and $\\hat{\\beta}_1$ \n",
    "\n",
    "- The remaining three columns have important quantities to assess uncertainty and test hypotheses about the regression terms (we'll learn more about these quantities later).\n",
    "\n",
    "*Fill out those parts indicated with `...`, uncomment the corresponding code in the cell below, and run it.*"
   ]
  },
  {
   "cell_type": "code",
   "execution_count": null,
   "metadata": {
    "deletable": false,
    "nbgrader": {
     "cell_type": "code",
     "checksum": "608923e5a276f5fa1c1c5232d326589f",
     "grade": false,
     "grade_id": "cell-52d5c9eef3b26e20",
     "locked": false,
     "schema_version": 3,
     "solution": true,
     "task": false
    }
   },
   "outputs": [],
   "source": [
    "# SLR_cancer_sample250_results <- ...(...) %>% mutate_if(is.numeric, round, 2)\n",
    "# SLR_cancer_sample250_results\n",
    "\n",
    "# your code here\n",
    "fail() # No Answer - remove if you provide an answer"
   ]
  },
  {
   "cell_type": "code",
   "execution_count": null,
   "metadata": {
    "deletable": false,
    "editable": false,
    "nbgrader": {
     "cell_type": "code",
     "checksum": "ae927b852ab6f3fe9d8e2137fc6fefc2",
     "grade": true,
     "grade_id": "cell-635ad3148a1c83b4",
     "locked": true,
     "points": 1,
     "schema_version": 3,
     "solution": false,
     "task": false
    }
   },
   "outputs": [],
   "source": [
    "test_5.1.0()"
   ]
  },
  {
   "cell_type": "markdown",
   "metadata": {
    "deletable": false,
    "editable": false,
    "nbgrader": {
     "cell_type": "markdown",
     "checksum": "be7cbb7782c63e391f642a6a422662a6",
     "grade": false,
     "grade_id": "cell-c8684be2efde0514",
     "locked": true,
     "schema_version": 3,
     "solution": false,
     "task": false
    }
   },
   "source": [
    "### 5.2. Hypothesis Tests"
   ]
  },
  {
   "cell_type": "markdown",
   "metadata": {
    "deletable": false,
    "editable": false,
    "nbgrader": {
     "cell_type": "markdown",
     "checksum": "f7da431aeb6b78ca2afc53e46c58ef80",
     "grade": false,
     "grade_id": "cell-39c0e09371a6e400",
     "locked": true,
     "schema_version": 3,
     "solution": false,
     "task": false
    }
   },
   "source": [
    "### The null hypothesis\n",
    "\n",
    "**Question 5.2.0**\n",
    "<br>{points: 1}\n",
    "\n",
    "The object `SLR_cancer_sample250_results` contains useful information to test some hypotheses about the regression coefficients.\n",
    "\n",
    "Suppose we want to test if the there exist a linear association between the response and the input variable. Which of the following null hypotheses is correct:\n",
    "\n",
    "**A.** $H_0: \\hat{\\beta}_1 = 0 $\n",
    "\n",
    "**B.** $H_0: \\hat{\\beta}_0 = 0 $\n",
    "\n",
    "**C.** $H_0: \\beta_1 = 0$ \n",
    "\n",
    "**D.** $H_0: \\beta_0 = 0$ \n",
    "\n",
    "*Assign your answer to an object called `answer5.2.0`. Your answer should be one of `\"A\"`, `\"B\"`, `\"C\"`, or `\"D\"` surrounded by quotes.*"
   ]
  },
  {
   "cell_type": "code",
   "execution_count": null,
   "metadata": {
    "deletable": false,
    "nbgrader": {
     "cell_type": "code",
     "checksum": "2749a5520391f92c5c822ea791f192da",
     "grade": false,
     "grade_id": "cell-0e00abceb50441a9",
     "locked": false,
     "schema_version": 3,
     "solution": true,
     "task": false
    }
   },
   "outputs": [],
   "source": [
    "# answer5.2.0 <- \n",
    "\n",
    "# your code here\n",
    "fail() # No Answer - remove if you provide an answer"
   ]
  },
  {
   "cell_type": "code",
   "execution_count": null,
   "metadata": {
    "deletable": false,
    "editable": false,
    "nbgrader": {
     "cell_type": "code",
     "checksum": "bcd6e981de63ded413882829c08fbe6c",
     "grade": true,
     "grade_id": "cell-7ff71adbd8d78931",
     "locked": true,
     "points": 1,
     "schema_version": 3,
     "solution": false,
     "task": false
    }
   },
   "outputs": [],
   "source": [
    "test_5.2.0()"
   ]
  },
  {
   "cell_type": "markdown",
   "metadata": {
    "deletable": false,
    "editable": false,
    "nbgrader": {
     "cell_type": "markdown",
     "checksum": "08cef2547be8489fd41fa996cb97ada8",
     "grade": false,
     "grade_id": "cell-80d21f8215791485",
     "locked": true,
     "schema_version": 3,
     "solution": false,
     "task": false
    }
   },
   "source": [
    "### The alternative hypothesis \n",
    "\n",
    "**Question 5.2.1**\n",
    "<br>{points: 1}\n",
    "\n",
    "The alternative hypothesis reflects our believes about reality. \n",
    "\n",
    "> **Heads up**: Although the alternative hypothesis contains the claim that we want to prove, it is important to note that in statistics we are not proving that the null hypothesis is true or false! We can only *reject* or *fail to reject* the null hypothesis based on our evidence in the data!!\n",
    "\n",
    "The object `SLR_cancer_sample250_results` contains useful information to test some hypotheses about the regression coefficients.\n",
    "\n",
    "Suppose we want to test if the there exist a positive (linear) association between the response and the input variable. Which of the following null hypotheses is correct:\n",
    "\n",
    "**A.** $H_1: \\hat{\\beta}_1 > 0 $\n",
    "\n",
    "**B.** $H_1: \\hat{\\beta}_0 > 0 $\n",
    "\n",
    "**C.** $H_1: \\beta_1 \\neq 0$ \n",
    "\n",
    "**D.** $H_1: \\beta_1 > 0$ \n",
    "\n",
    "*Assign your answer to an object called `answer5.2.1`. Your answer should be one of `\"A\"`, `\"B\"`, `\"C\"`, or `\"D\"` surrounded by quotes.*"
   ]
  },
  {
   "cell_type": "code",
   "execution_count": null,
   "metadata": {
    "deletable": false,
    "nbgrader": {
     "cell_type": "code",
     "checksum": "fec0b1b93dff1cce87d8ffd0c5f35641",
     "grade": false,
     "grade_id": "cell-a52907f64399935c",
     "locked": false,
     "schema_version": 3,
     "solution": true,
     "task": false
    }
   },
   "outputs": [],
   "source": [
    "# answer5.2.1 <- \n",
    "\n",
    "# your code here\n",
    "fail() # No Answer - remove if you provide an answer"
   ]
  },
  {
   "cell_type": "code",
   "execution_count": null,
   "metadata": {
    "deletable": false,
    "editable": false,
    "nbgrader": {
     "cell_type": "code",
     "checksum": "8245dd06b46f1e3e89f2a8b445234105",
     "grade": true,
     "grade_id": "cell-354611ba3fc83f6f",
     "locked": true,
     "points": 1,
     "schema_version": 3,
     "solution": false,
     "task": false
    }
   },
   "outputs": [],
   "source": [
    "test_5.2.1()"
   ]
  },
  {
   "cell_type": "markdown",
   "metadata": {
    "deletable": false,
    "editable": false,
    "nbgrader": {
     "cell_type": "markdown",
     "checksum": "a40153b8e5bdb28afdc07c24e67583eb",
     "grade": false,
     "grade_id": "cell-391c3bab7c1d8f34",
     "locked": true,
     "schema_version": 3,
     "solution": false,
     "task": false
    }
   },
   "source": [
    "#### The statistic\n",
    "\n",
    "To test $H_0$ we can use our estimated slope and check how far the estimate $\\hat{\\beta}_1$ is from $0$. But **how far is far??** \n",
    "\n",
    "The standard error $\\text{SE}(\\hat{\\beta}_1)$ (found in column `std.error` from `SLR_cancer_sample250_results`) will help us in asessing this via the following test statistic:\n",
    "\n",
    "$$T = \\frac{\\hat{\\beta}_1 - 0}{\\text{SE}(\\hat{\\beta}_1)}$$\n",
    "\n",
    "The value of this statistic in our data can be found in the column `statistic` from `SLR_cancer_sample250_results`\n",
    "\n",
    "#### The p-value\n",
    "\n",
    "In `SLR_cancer_sample250_results` you can find the $p$-values in the column `p.value`. But how are these p-values computed?? \n",
    "\n",
    "> We need the distribution of the estimators $\\hat{\\beta}_0$ and $\\hat{\\beta}_1$ (the sampling distributions) to compute $p$-values!!\n",
    "\n",
    "Under $H_0$, `lm` approximates the **sampling distribution** with a $t$-distribution with $n - k$ degrees of freedom, where $n$ is the sample size and $k$ the number of regression coefficients (see Section 6)\n",
    "\n",
    "- For a SLR: there are $k = 2$ coefficients: $\\beta_0$ and $\\beta_1$\n",
    "\n",
    "> **Heads up**: By default, the alternative hypothesis is $H_1: \\beta_j \\neq 0$, for all $j$th coefficients. But you can change the default settings!!\n",
    "\n",
    "The `p.value` is interpreted as the probability, under $H_0$, that $\\mid T \\mid$ is equal or larger than the value observed in our sample (given in the column `statistic` of `SLR_cancer_sample250_results`). "
   ]
  },
  {
   "cell_type": "markdown",
   "metadata": {
    "deletable": false,
    "editable": false,
    "nbgrader": {
     "cell_type": "markdown",
     "checksum": "65fdb2a48a5b06414599e3a52d72f4ae",
     "grade": false,
     "grade_id": "cell-aceb18fffce6f3bd",
     "locked": true,
     "schema_version": 3,
     "solution": false,
     "task": false
    }
   },
   "source": [
    "**Question 5.2.2**\n",
    "\n",
    "Which of the following statement is correct??\n",
    "\n",
    "**A.** The p-value is not the probability that the null hypothesis is true\n",
    "\n",
    "**B.** The p-value is the probability that the alternative hypothesis is false\n",
    "\n",
    "**C.** The p-value indicates the size or importance of the observed effect\n",
    "\n",
    "**D.** The p-value is the probability that the observed effects were produced by random chance alone.\n",
    "\n",
    "*Assign your answer to an object called `answer5.2.2`. Your answer should be one of `\"A\"`, `\"B\"`, `\"C\"`, or `\"D\"` surrounded by quotes.*"
   ]
  },
  {
   "cell_type": "code",
   "execution_count": null,
   "metadata": {
    "deletable": false,
    "nbgrader": {
     "cell_type": "code",
     "checksum": "68d64d79126d57881fac03253752fcbc",
     "grade": false,
     "grade_id": "cell-8f6efb5c992214ae",
     "locked": false,
     "schema_version": 3,
     "solution": true,
     "task": false
    }
   },
   "outputs": [],
   "source": [
    "# answer5.2.2 <- \n",
    "\n",
    "# your code here\n",
    "fail() # No Answer - remove if you provide an answer"
   ]
  },
  {
   "cell_type": "code",
   "execution_count": null,
   "metadata": {
    "deletable": false,
    "editable": false,
    "nbgrader": {
     "cell_type": "code",
     "checksum": "928826998d92f71b7c04f19ecccfcf9a",
     "grade": true,
     "grade_id": "cell-2cbff06858dd9fe1",
     "locked": true,
     "points": 1,
     "schema_version": 3,
     "solution": false,
     "task": false
    }
   },
   "outputs": [],
   "source": [
    "test_5.2.2()"
   ]
  },
  {
   "cell_type": "markdown",
   "metadata": {
    "deletable": false,
    "editable": false,
    "nbgrader": {
     "cell_type": "markdown",
     "checksum": "51da5c432a0a648b6495c1482e050016",
     "grade": false,
     "grade_id": "cell-2427447083645e6e",
     "locked": true,
     "schema_version": 3,
     "solution": false,
     "task": false
    }
   },
   "source": [
    "#### Decision rule\n",
    "\n",
    "The smaller the $p$-value, the stronger the evidence against $H_0$. Thus, small $p$-values (less than the significance level $\\alpha$) indicate that the data provides enough statistical evidence against the null hypothesis of no association (i.e., to reject $H_0$).\n",
    "\n",
    "> **Heads up**: in the last years, the scientific community has identified the \"crisis of p-values\". If you are interested in this topic you can read more about it in [this article](https://www.nature.com/articles/d41586-019-00857-9) and in the [ASA statement](https://www.stat.berkeley.edu/~aldous/Real_World/ASA_statement.pdf)."
   ]
  },
  {
   "cell_type": "markdown",
   "metadata": {
    "deletable": false,
    "editable": false,
    "nbgrader": {
     "cell_type": "markdown",
     "checksum": "646a62ae50e5d766e6ba25e857ae0b16",
     "grade": false,
     "grade_id": "cell-3c6059e23bc9f677",
     "locked": true,
     "schema_version": 3,
     "solution": false,
     "task": false
    }
   },
   "source": [
    "**Question 5.2.3**\n",
    "<br>{points: 1}\n",
    "\n",
    "Using the output stored in `SLR_cancer_sample250_results` and a significance level $\\alpha = 0.05$, in plain words, what is the conclusion of the following hypothesis test?\n",
    "\n",
    "$H_0: \\beta_1 = 0 $\n",
    "\n",
    "$H_1: \\beta_1 \\neq 0 $\n",
    "\n",
    "**A.** We accept the alternative hypothesis; thus, the percentage of the county's populace in poverty has a statistically significant effect on the county's cancer mortality per capita (cases/100,000).\n",
    "\n",
    "**B.** We reject the null hypothesis; thus, the percentage of the county's populace in poverty is statistically associated with the county's cancer mortality per capita (cases/100,000).\n",
    "\n",
    "**C.** We fail to reject the null hypothesis; thus, the percentage of the county's populace in poverty is not statistically associated with the county's cancer mortality per capita (cases/100,000).\n",
    "\n",
    "*Assign your answer to an object called `answer5.2.3`. Your answer should be one of `\"A\"`, `\"B\"`, or `\"C\"` surrounded by quotes.*"
   ]
  },
  {
   "cell_type": "code",
   "execution_count": null,
   "metadata": {
    "deletable": false,
    "nbgrader": {
     "cell_type": "code",
     "checksum": "800292f6fcc918e664198551c5ffdbdd",
     "grade": false,
     "grade_id": "cell-82d0f59970d0e80b",
     "locked": false,
     "schema_version": 3,
     "solution": true,
     "task": false
    }
   },
   "outputs": [],
   "source": [
    "# answer5.2.3 <- \n",
    "\n",
    "# your code here\n",
    "fail() # No Answer - remove if you provide an answer"
   ]
  },
  {
   "cell_type": "code",
   "execution_count": null,
   "metadata": {
    "deletable": false,
    "editable": false,
    "nbgrader": {
     "cell_type": "code",
     "checksum": "2e8d5364959065df99884f1288681682",
     "grade": true,
     "grade_id": "cell-f9f55247b699d582",
     "locked": true,
     "points": 1,
     "schema_version": 3,
     "solution": false,
     "task": false
    }
   },
   "outputs": [],
   "source": [
    "test_5.2.3()"
   ]
  },
  {
   "cell_type": "markdown",
   "metadata": {
    "deletable": false,
    "editable": false,
    "nbgrader": {
     "cell_type": "markdown",
     "checksum": "fa0e88547583b3dd48f42e27bdc763e7",
     "grade": false,
     "grade_id": "cell-686562cd18489a63",
     "locked": true,
     "schema_version": 3,
     "solution": false,
     "task": false
    }
   },
   "source": [
    "### 5.3. Confidence Intervals\n",
    "\n",
    "The values in `SLR_cancer_sample250_results` can also be used to compute confidence intervals for the regression parameters! \n",
    "\n",
    "Confidence intervals (CIs) reflect the uncertainty of our regression estimates and can be used to make inference about the regression coefficients. \n",
    "\n",
    "\n",
    "$$\\hat{b} \\pm \\text{SE}(\\hat{b}) \\times t_{\\alpha/ 2, n - k},$$\n",
    "\n",
    "where \n",
    "\n",
    "- $\\text{SE}(\\hat{b})$ is the estimate's standard error. \n",
    "\n",
    "- $n$ is the sample size and $k$ the number of regression parameters \n",
    "    - $k = 2$ in the case of the SLR, $\\beta_0$ and $\\beta_1$.\n",
    "\n",
    "- The $t_{\\alpha/ 2, n - k}$ is the **quantile of the $t$-distribution** with $n - k$ degrees of freedom!! \n",
    "\n",
    "**Heads up**: this result is *also* based in classical theory approximations or distributional assumptions!!\n",
    "\n",
    "There are also many missunderstandings around the concept of CIs\n",
    "\n",
    "A 95% CI computed from the data is **not** a range of values that contain the true regression parameter with 95% probability. Once the interval has been computed based on the data, *nothing is random*! so it either covers or not the true value. \n",
    "\n",
    "> **Heads up**: this observation alludes to a more general and difficult concept: the difference between an *estimator* and an *estimate* as noted before!!"
   ]
  },
  {
   "cell_type": "markdown",
   "metadata": {
    "deletable": false,
    "editable": false,
    "nbgrader": {
     "cell_type": "markdown",
     "checksum": "c7d398948bdb4d5504c54d327fdedc0f",
     "grade": false,
     "grade_id": "cell-f2039776b449200a",
     "locked": true,
     "schema_version": 3,
     "solution": false,
     "task": false
    }
   },
   "source": [
    "**Question 5.3.0**\n",
    "<br>{points: 1}\n",
    "\n",
    "Using `SLR_cancer_sample250` via `tidy()`, obtain the asymptotic 95% CIs for each regression parameters.\n",
    "\n",
    "*Fill out those parts indicated with `...`, uncomment the corresponding code in the cell below, and run it.*"
   ]
  },
  {
   "cell_type": "code",
   "execution_count": null,
   "metadata": {
    "deletable": false,
    "nbgrader": {
     "cell_type": "code",
     "checksum": "d19550d1854fe3a7633ba89628959d76",
     "grade": false,
     "grade_id": "cell-0468635376dc8c51",
     "locked": false,
     "schema_version": 3,
     "solution": true,
     "task": false
    }
   },
   "outputs": [],
   "source": [
    "# SLR_cancer_sample250_CIs <- ...(..., ...) %>% mutate_if(is.numeric, round, 2)\n",
    "# SLR_cancer_sample250_CIs\n",
    "\n",
    "# your code here\n",
    "fail() # No Answer - remove if you provide an answer"
   ]
  },
  {
   "cell_type": "code",
   "execution_count": null,
   "metadata": {
    "deletable": false,
    "editable": false,
    "nbgrader": {
     "cell_type": "code",
     "checksum": "ac0fca2205ffc7ec84ec9d4a70e44827",
     "grade": true,
     "grade_id": "cell-5fb8e28b96479507",
     "locked": true,
     "points": 1,
     "schema_version": 3,
     "solution": false,
     "task": false
    }
   },
   "outputs": [],
   "source": [
    "test_5.3.0()"
   ]
  },
  {
   "cell_type": "markdown",
   "metadata": {
    "deletable": false,
    "editable": false,
    "nbgrader": {
     "cell_type": "markdown",
     "checksum": "56ed235fb8d2d27571b36eb1248af187",
     "grade": false,
     "grade_id": "cell-757d9c75042a3693",
     "locked": true,
     "schema_version": 3,
     "solution": false,
     "task": false
    }
   },
   "source": [
    "# 6. The Sampling Distribution\n",
    "\n",
    "We mentioned before that the estimators of the regression coefficient, $\\hat{\\beta}_0$ and $\\hat{\\beta}_1$, are *random variables*. Then they also have a *distribution*, called the *sampling distribution* (same as in STAT 201!). And we need this distribution to compute $p$-values!!\n",
    "\n",
    "But how do we know the *sampling distribution* (i.e., the distribution of the estimators of the regression coefficients*)??\n",
    "\n",
    "We have different ways of answering this question:\n",
    "\n",
    "1. take multiple samples from the population and compute multiple estimates as we did above. Then look at their distribution. But this is *not a realistic option* \n",
    "\n",
    "2. use a theoretical result! This is what `lm` does!!\n",
    "\n",
    "3. use bootstrapping!! As you did in STAT 201 for other quantities!! This is what we will also do in STAT 301\n"
   ]
  },
  {
   "cell_type": "markdown",
   "metadata": {
    "deletable": false,
    "editable": false,
    "nbgrader": {
     "cell_type": "markdown",
     "checksum": "cdf9fab8448e0f88e077e099987f2d1b",
     "grade": false,
     "grade_id": "cell-7b99bf7f7d989f54",
     "locked": true,
     "schema_version": 3,
     "solution": false,
     "task": false
    }
   },
   "source": [
    "#### Theoretical results \n",
    "\n",
    "<img src=\"img/assumptions_SLR.png\" style=\"width:600px\"/>\n",
    "\n",
    "From Beyond Multiple Linear Regression (BMLR), Applied Generalized Linear Models and Multilevel Models in R, by Paul Roback and Julie Legler"
   ]
  },
  {
   "cell_type": "markdown",
   "metadata": {
    "deletable": false,
    "editable": false,
    "nbgrader": {
     "cell_type": "markdown",
     "checksum": "3b60942c18d6e870c4303ac1f0663161",
     "grade": false,
     "grade_id": "cell-445f38e1a47dfe51",
     "locked": true,
     "schema_version": 3,
     "solution": false,
     "task": false
    }
   },
   "source": [
    "From the figure in BMLR, we can see that an additional assumption was made:\n",
    "\n",
    "#### <font color=\"blue\">  ASSUMPTION 2: the conditional distribution of the error terms is Normal!! and so is the conditional distribution of the response! </font>\n",
    "\n",
    "This assumption is not always needed in the analysis of linear regression. However, it guarantees that the linear is a good fit to the data!\n",
    "\n",
    "> **Classical Theory 1**: if we assume that the (conditional) distribution of the error terms $\\varepsilon_i$ is Normal, under $H_0$, the statistic $T$ follows a $t$-distribution with $n - k$ degrees of freedom where $n$ is the sample size and $k$ the number of regression parameters.\n",
    "\n",
    "    \n",
    "**Important**: <font color=\"blue\">CLT to the rescue</font>: if the assumption is not true but the conditional distribution of the error terms is *nice enough* (under certain conditions), **and if the sample size is large**, then \n",
    "\n",
    "> **Classical Theory 2**: under $H_0$, the **Central Limit Theory** can be used to prove that the statistic $T$ follows *approximately* a $t$-distribution with $n - k$ degrees of freedom (the correct terminology is *assymptotically*, for very large sample sizes).\n",
    "\n",
    "    \n",
    "#### This theoretical result is used by `lm` to compute p-values and confidence intervals!!\n",
    "\n",
    "`lm` approximates the sampling distribution with a $t$-distribution with $n - k$ degrees of freedom \n",
    "\n",
    "> **Heads up**: what can we do if the assumptions do not hold? or if we don't want to use LS estimators? or if the sample size is not large to use approximations?"
   ]
  },
  {
   "cell_type": "markdown",
   "metadata": {
    "deletable": false,
    "editable": false,
    "nbgrader": {
     "cell_type": "markdown",
     "checksum": "5fc0fe414d1dd361c657c29c30d32cad",
     "grade": false,
     "grade_id": "cell-7665865c6a920d94",
     "locked": true,
     "schema_version": 3,
     "solution": false,
     "task": false
    }
   },
   "source": [
    "<img src=\"../../resources/img/bootstrapping.png\" width=500>\n",
    "<div style=\"text-align: center\"><i>Bootstrapping diagram.</i></a></div>"
   ]
  },
  {
   "cell_type": "markdown",
   "metadata": {
    "deletable": false,
    "editable": false,
    "nbgrader": {
     "cell_type": "markdown",
     "checksum": "2d2d81aac3cbcf425035c6a590b4041e",
     "grade": false,
     "grade_id": "cell-8427f3a6b15b9e32",
     "locked": true,
     "schema_version": 3,
     "solution": false,
     "task": false
    }
   },
   "source": [
    ">  **Historical note**: The term bootstrapping originates from the phrase \"to pull oneself up by one's bootstraps\", which refers to completing a seemingly impossible task with no external help. \n",
    "\n",
    "In Statistics, bootstrapping refers to sampling from our original sample **with replacement** (also called **resampling with replacement**) to generate a **bootstrap sampling distribution**. \n",
    "\n",
    ">  **Heads up**: **sampling with replacement** means that each time we choose an observation from the sample, we return it before randomly selecting another. Resampling with replacement is required to get enough samples to approximate the sampling variation.\n",
    "\n",
    "The idea is to use the original sample as an *estimate* of the unknown population. The single sample acts as the \"bootstraps\" that we can use to \"pull ourselves up\" and create an approximation of sampling distribution.\n",
    "\n",
    "<font color=\"blue\">Again, note that we are sampling from the sample!! not from the population!!</font>"
   ]
  },
  {
   "cell_type": "markdown",
   "metadata": {
    "deletable": false,
    "editable": false,
    "nbgrader": {
     "cell_type": "markdown",
     "checksum": "adbe9f8bdd7dd9da6a934c7625b6138b",
     "grade": false,
     "grade_id": "cell-6f316bcec0b455d7",
     "locked": true,
     "schema_version": 3,
     "solution": false,
     "task": false
    }
   },
   "source": [
    "Using *bootstraping*, we generate a *long* list of estimates to compute *empirically* the sampling distribution!\n",
    "\n",
    "- sample with replacement to obtain $B$ samples with size $n$\n",
    "\n",
    "- for each sample, compute the estimated regression coefficients\n",
    "\n",
    "- use the $B$ regression estimates of a given population parameter $\\beta_j$ to calculate the sampling distribution of $\\hat{\\beta}_j$ \n",
    "\n",
    "> **Note**: we use the subscript $j$ to name either the intercept ($j=0$) or the slope ($j=1$)\n",
    "\n",
    "> **Heads up**: this list can also be used to estimate the mean and the standard error of $\\beta_j$\n"
   ]
  },
  {
   "cell_type": "markdown",
   "metadata": {
    "deletable": false,
    "editable": false,
    "nbgrader": {
     "cell_type": "markdown",
     "checksum": "48e8e2b4c1fe9d6ed1873a35f9d73d1a",
     "grade": false,
     "grade_id": "cell-d57a445477211915",
     "locked": true,
     "schema_version": 3,
     "solution": false,
     "task": false
    }
   },
   "source": [
    "**Question 6.0**\n",
    "<br>{points: 1}\n",
    "\n",
    "Let's approximate the sampling distribution bootstrapping from `US_cancer_sample250`. \n",
    "\n",
    "Obtain $B = 1000$ sets of regression estimates by fitting a SLR $B$ times using their respective boostrapped sample. Store the corresponding $\\hat{\\beta}^*_0$ and $\\hat{\\beta}^*_1$ per boostrapped sample in the data frame `lm_boot250` of 1000 rows and two columns:\n",
    "\n",
    "- `boot_intercept`: list of bootstrapped intercept $\\hat{\\beta}^*_0$.\n",
    "- `boot_slope`: list of bootstrapped slope $\\hat{\\beta}^*_1$.\n",
    "\n",
    "*Fill out those parts indicated with `...`, uncomment the corresponding code in the cell below, and run it.*"
   ]
  },
  {
   "cell_type": "code",
   "execution_count": null,
   "metadata": {
    "deletable": false,
    "nbgrader": {
     "cell_type": "code",
     "checksum": "f068218a4f15c9a691810e31a3ec9333",
     "grade": false,
     "grade_id": "cell-6f2151f404bba317",
     "locked": false,
     "schema_version": 3,
     "solution": true,
     "task": false
    }
   },
   "outputs": [],
   "source": [
    "set.seed(123)  # DO NOT CHANGE!\n",
    "\n",
    "# n <- ...\n",
    "# B <- ...\n",
    "\n",
    "# lm_boot250 <- replicate(..., {\n",
    "#   sample_n(..., ..., ...) %>%\n",
    "#     lm(..., data = .) %>%\n",
    "#     .$coef\n",
    "# })\n",
    "# lm_boot250 <- data.frame(boot_intercept = lm_boot250[1, ], boot_slope = lm_boot250[2, ])\n",
    "\n",
    "# head(lm_boot250)\n",
    "# tail(lm_boot250)\n",
    "\n",
    "# your code here\n",
    "fail() # No Answer - remove if you provide an answer"
   ]
  },
  {
   "cell_type": "code",
   "execution_count": null,
   "metadata": {
    "deletable": false,
    "editable": false,
    "nbgrader": {
     "cell_type": "code",
     "checksum": "90e9806cb443e3888c100b35d485ee47",
     "grade": true,
     "grade_id": "cell-13b76464c3364af8",
     "locked": true,
     "points": 1,
     "schema_version": 3,
     "solution": false,
     "task": false
    }
   },
   "outputs": [],
   "source": [
    "test_6.0()"
   ]
  },
  {
   "cell_type": "markdown",
   "metadata": {
    "deletable": false,
    "editable": false,
    "nbgrader": {
     "cell_type": "markdown",
     "checksum": "a834ef6450b16f7a2a8888c57ede1f63",
     "grade": false,
     "grade_id": "cell-551d6111e2c02e14",
     "locked": true,
     "schema_version": 3,
     "solution": false,
     "task": false
    }
   },
   "source": [
    "**Question 6.1**\n",
    "<br>{points: 1}\n",
    "\n",
    "Now that we have a list of bootstrapped estimates, we can compute the visualize sampling distribution!\n",
    "\n",
    "Let's focus on the sampling distribution of the slope\n",
    "\n",
    "The `ggplot()` object's name will be `slope_sampling_dist_250`\n",
    "\n",
    "\n",
    "*Fill out those parts indicated with `...`, uncomment the corresponding code in the cell below, and run it.*"
   ]
  },
  {
   "cell_type": "code",
   "execution_count": null,
   "metadata": {
    "deletable": false,
    "nbgrader": {
     "cell_type": "code",
     "checksum": "9c9638459b1a7434d65d3132e4e1af85",
     "grade": false,
     "grade_id": "cell-7e48d70a5fd7e6ba",
     "locked": false,
     "schema_version": 3,
     "solution": true,
     "task": false
    }
   },
   "outputs": [],
   "source": [
    "#slope_sampling_dist_250 <-  ggplot(..., aes(x = ...)) +\n",
    "#    geom_histogram(bins = 30, color = \"white\", fill = \"blue\") +\n",
    "#    coord_cartesian(xlim = c(0, 3)) +\n",
    "#    xlab(\"...\") +\n",
    "#    ggtitle(\"Sampling distribution for the estimator of the slope, n=250\")\n",
    "\n",
    "#slope_sampling_dist_250 \n",
    "\n",
    "\n",
    "# your code here\n",
    "fail() # No Answer - remove if you provide an answer"
   ]
  },
  {
   "cell_type": "code",
   "execution_count": null,
   "metadata": {
    "deletable": false,
    "editable": false,
    "nbgrader": {
     "cell_type": "code",
     "checksum": "da7cbba3f750c52abcc4eb553cb80490",
     "grade": true,
     "grade_id": "cell-52143fa0beedf514",
     "locked": true,
     "points": 1,
     "schema_version": 3,
     "solution": false,
     "task": false
    }
   },
   "outputs": [],
   "source": [
    "test_6.1()"
   ]
  },
  {
   "cell_type": "markdown",
   "metadata": {
    "deletable": false,
    "editable": false,
    "nbgrader": {
     "cell_type": "markdown",
     "checksum": "8710af7c3fa51c67672d641c4497d93a",
     "grade": false,
     "grade_id": "cell-50ed6b45bdefbbcc",
     "locked": true,
     "schema_version": 3,
     "solution": false,
     "task": false
    }
   },
   "source": [
    "### Does the sample size matter?\n",
    "\n",
    "Our estimator depends on a random sample and thus on its size! What happen to the estimates and the sampling distribution when we change the sample size? \n",
    "\n",
    "Let's approximate the sampling distribution of estimators computed from samples of different sizes "
   ]
  },
  {
   "cell_type": "markdown",
   "metadata": {
    "deletable": false,
    "editable": false,
    "nbgrader": {
     "cell_type": "markdown",
     "checksum": "be0cbcc077efc9ae19f2089ed485b007",
     "grade": false,
     "grade_id": "cell-4222768aa1dba6ad",
     "locked": true,
     "schema_version": 3,
     "solution": false,
     "task": false
    }
   },
   "source": [
    "**Question 6.2**\n",
    "<br>{points: 2}\n",
    "\n",
    "- start with a new sample of size $n=500$\n",
    "\n",
    "- repeat the bootstrapping experiment above \n",
    "\n",
    "- plot the sampling distribution\n",
    "\n",
    "The `ggplot()` object's name will be `slope_sampling_dist_500`\n",
    "\n",
    "*Fill out those parts indicated with `...`, uncomment the corresponding code in the cell below, and run it.*"
   ]
  },
  {
   "cell_type": "code",
   "execution_count": null,
   "metadata": {
    "deletable": false,
    "nbgrader": {
     "cell_type": "code",
     "checksum": "fb398aea806068bbbf7fc7628a2e97a7",
     "grade": false,
     "grade_id": "cell-5e67e1eed426b7b9",
     "locked": false,
     "schema_version": 3,
     "solution": true,
     "task": false
    }
   },
   "outputs": [],
   "source": [
    "set.seed(123)  # DO NOT CHANGE!\n",
    "US_cancer_sample500 <- rep_sample_n(US_cancer_data, size = 500)  # DO NOT CHANGE!\n",
    "\n",
    "# n <- ...\n",
    "# B <- ...\n",
    "\n",
    "# lm_boot500 <- replicate(..., {\n",
    "#   sample_n(..., ..., ...) %>%\n",
    "#     lm(..., data = .) %>%\n",
    "#     .$coef\n",
    "# })\n",
    "# lm_boot500 <- data.frame(boot_intercept = lm_boot500[1, ], boot_slope = lm_boot500[2, ])\n",
    "\n",
    "#slope_sampling_dist_500 <-  ggplot(..., aes(x = ...)) +\n",
    "#    geom_histogram(bins = ...,color = \"white\", fill = \"blue\") +\n",
    "#    coord_cartesian(xlim = c(0, 3)) +\n",
    "#    xlab(\"...\") +\n",
    "#    ggtitle(\"Sampling distribution for the estimator of the slope, n=500\")\n",
    "\n",
    "#slope_sampling_dist_500 \n",
    "\n",
    "\n",
    "\n",
    "# your code here\n",
    "fail() # No Answer - remove if you provide an answer"
   ]
  },
  {
   "cell_type": "code",
   "execution_count": null,
   "metadata": {
    "deletable": false,
    "editable": false,
    "nbgrader": {
     "cell_type": "code",
     "checksum": "fc2de06d7bb408f73acf19c24d1ee44c",
     "grade": true,
     "grade_id": "cell-8bf369dbf7a904aa",
     "locked": true,
     "points": 1,
     "schema_version": 3,
     "solution": false,
     "task": false
    }
   },
   "outputs": [],
   "source": [
    "test_6.2()"
   ]
  },
  {
   "cell_type": "markdown",
   "metadata": {
    "deletable": false,
    "editable": false,
    "nbgrader": {
     "cell_type": "markdown",
     "checksum": "99d6d5583326c24d3a3678780a75582d",
     "grade": false,
     "grade_id": "cell-181f6cd34bc0fc7c",
     "locked": true,
     "schema_version": 3,
     "solution": false,
     "task": false
    }
   },
   "source": [
    "**Question 6.3**\n",
    "<br>{points: 1}\n",
    "\n",
    "- use the whole sample with all American counties!\n",
    "\n",
    "- repeat the bootstrapping experiment above \n",
    "\n",
    "- plot the sampling distribution\n",
    "\n",
    "The `ggplot()` object's name will be `slope_sampling_dist_3047`\n",
    "\n",
    "*Fill out those parts indicated with `...`, uncomment the corresponding code in the cell below, and run it.*"
   ]
  },
  {
   "cell_type": "code",
   "execution_count": null,
   "metadata": {
    "deletable": false,
    "nbgrader": {
     "cell_type": "code",
     "checksum": "6dff69159bea041652771d4b3223c8af",
     "grade": false,
     "grade_id": "cell-3277df29e2a26547",
     "locked": false,
     "schema_version": 3,
     "solution": true,
     "task": false
    }
   },
   "outputs": [],
   "source": [
    "set.seed(123)  # DO NOT CHANGE!\n",
    "\n",
    "# n <- ...\n",
    "# B <- ...\n",
    "\n",
    "# lm_boot3047 <- replicate(..., {\n",
    "#   sample_n(..., ..., ...) %>%\n",
    "#     lm(..., data = .) %>%\n",
    "#     .$coef\n",
    "# })\n",
    "# lm_boot3047 <- data.frame(boot_intercept = lm_boot3047[1, ], boot_slope = lm_boot3047[2, ])\n",
    "\n",
    "#slope_sampling_dist_3047 <-  ggplot(..., aes(x = ...)) +\n",
    "#    geom_histogram(bins = ..., color = \"white\", fill = \"blue\") +\n",
    "#    coord_cartesian(xlim = c(0, 3)) +\n",
    "#    xlab(\"...\") +\n",
    "#    ggtitle(\"Sampling distribution for the estimator of the slope, n=3047\")\n",
    "\n",
    "#slope_sampling_dist_3047 \n",
    "\n",
    "\n",
    "\n",
    "# your code here\n",
    "fail() # No Answer - remove if you provide an answer"
   ]
  },
  {
   "cell_type": "code",
   "execution_count": null,
   "metadata": {
    "deletable": false,
    "editable": false,
    "nbgrader": {
     "cell_type": "code",
     "checksum": "3d3de7090315b0a9727f0f290bf05b51",
     "grade": true,
     "grade_id": "cell-9eacf9d8f5f16848",
     "locked": true,
     "points": 1,
     "schema_version": 3,
     "solution": false,
     "task": false
    }
   },
   "outputs": [],
   "source": [
    "test_6.3()"
   ]
  },
  {
   "cell_type": "markdown",
   "metadata": {
    "deletable": false,
    "editable": false,
    "nbgrader": {
     "cell_type": "markdown",
     "checksum": "fe270f76eeed88c50e728900935f1695",
     "grade": false,
     "grade_id": "cell-b6e751621f62bdc3",
     "locked": true,
     "schema_version": 3,
     "solution": false,
     "task": false
    }
   },
   "source": [
    "Looking at the 3 sampling distributions obtained by bootstrapping from samples of different sizes, side-by-side"
   ]
  },
  {
   "cell_type": "code",
   "execution_count": null,
   "metadata": {
    "deletable": false,
    "editable": false,
    "nbgrader": {
     "cell_type": "code",
     "checksum": "b53af496d9171dc947dfcf5e28b06d6f",
     "grade": false,
     "grade_id": "cell-9db0f9c688ac0211",
     "locked": true,
     "schema_version": 3,
     "solution": false,
     "task": false
    }
   },
   "outputs": [],
   "source": [
    "plot_grid(slope_sampling_dist_250 , slope_sampling_dist_500 ,slope_sampling_dist_3047 )"
   ]
  },
  {
   "cell_type": "markdown",
   "metadata": {
    "deletable": false,
    "editable": false,
    "nbgrader": {
     "cell_type": "markdown",
     "checksum": "7ed03a9d33a9ff47e4babee201236c60",
     "grade": false,
     "grade_id": "cell-d924b53e12f0f3e8",
     "locked": true,
     "schema_version": 3,
     "solution": false,
     "task": false
    }
   },
   "source": [
    "**Question 6.4**\n",
    "<br>{points: 1}\n",
    "\n",
    "Which of the following observataion about the sampling distribution is true?\n",
    "\n",
    "**A.** The sampling distribution of the estimator of the slope does not change with the size of the sample we bootstrapped from\n",
    "\n",
    "**B.** The center of sampling distribution of the estimator of the slope does not change with the size of the sample we bootstrapped from\n",
    "\n",
    "**C.** The sampling distribution of the estimator of the slope becomes tighter as the size of the sample we bootstrapped from increases\n",
    "\n",
    "\n",
    "*Assign your answer to an object called `answer6.4`. Your answer should be one of `\"A\"`, `\"B\"`, or `\"C\"` surrounded by quotes.*"
   ]
  },
  {
   "cell_type": "code",
   "execution_count": null,
   "metadata": {
    "deletable": false,
    "nbgrader": {
     "cell_type": "code",
     "checksum": "607a1c8e02e99f583bc7a146195ad4af",
     "grade": false,
     "grade_id": "cell-663ee2b25173845e",
     "locked": false,
     "schema_version": 3,
     "solution": true,
     "task": false
    }
   },
   "outputs": [],
   "source": [
    "# answer6.4 <- \n",
    "\n",
    "# your code here\n",
    "fail() # No Answer - remove if you provide an answer"
   ]
  },
  {
   "cell_type": "code",
   "execution_count": null,
   "metadata": {
    "deletable": false,
    "editable": false,
    "nbgrader": {
     "cell_type": "code",
     "checksum": "4d173d2de9f7cecb8cf19be1f3894add",
     "grade": true,
     "grade_id": "cell-2f4bff560ebf9499",
     "locked": true,
     "points": 1,
     "schema_version": 3,
     "solution": false,
     "task": false
    }
   },
   "outputs": [],
   "source": [
    "test_6.4()"
   ]
  },
  {
   "cell_type": "markdown",
   "metadata": {
    "deletable": false,
    "editable": false,
    "nbgrader": {
     "cell_type": "markdown",
     "checksum": "9ad04802b3e109ec9620eb4ca0af0af1",
     "grade": false,
     "grade_id": "cell-255147851923a584",
     "locked": true,
     "schema_version": 3,
     "solution": false,
     "task": false
    }
   },
   "source": [
    "### Bootstrap Confidence Intervals\n",
    "\n",
    "In this exercise we use the bootstrapping sampling distribution to compute *bootstrap percentile* CIs of regression parameters.\n",
    "\n",
    "This empirical sampling distribution can be used to make inference, for example to construct CIs (also done in STAT 201).\n",
    "\n",
    "Sorting the $B$ boostrapping estimates $\\hat{\\beta}_j$ from the smallest to the largest value, the corresponding $(1 - \\alpha) \\times 100\\%$ boostrap CI is obtained with the following percentiles:\n",
    "\n",
    "$$\\Big(\\hat{\\beta}^*_{j,\\alpha/2}, \\hat{\\beta}^*_{j,1 - \\alpha/2}\\Big)$$"
   ]
  },
  {
   "cell_type": "markdown",
   "metadata": {
    "deletable": false,
    "editable": false,
    "nbgrader": {
     "cell_type": "markdown",
     "checksum": "0faf6f9c3e4aa13a8d12714ba5bcaacf",
     "grade": false,
     "grade_id": "cell-9e63ef9fff646bef",
     "locked": true,
     "schema_version": 3,
     "solution": false,
     "task": false
    }
   },
   "source": [
    "**Question 6.5**\n",
    "<br>{points: 1}\n",
    "\n",
    "Obtain a summary of the $B$ results, `boot_SLR_cancer_CIs`, from `lm_boot` with two rows (one for `boot_intercept` and another for `boot_slope`) and three columns: boostrap estimate average (`B_avg`), 95% lower bound quantile (`B_conf.low`), and 95% upper bound quantile (`B_conf.high`).\n",
    "\n",
    "*Fill out those parts indicated with `...`, uncomment the corresponding code in the cell below, and run it.*"
   ]
  },
  {
   "cell_type": "code",
   "execution_count": null,
   "metadata": {
    "deletable": false,
    "nbgrader": {
     "cell_type": "code",
     "checksum": "1650cd3aa53fa171cafa850a66b3e995",
     "grade": false,
     "grade_id": "cell-a482050162452f49",
     "locked": false,
     "schema_version": 3,
     "solution": true,
     "task": false
    }
   },
   "outputs": [],
   "source": [
    "# boot_SLR_CIs <- data.frame(\n",
    "#   B_avg = lm_boot3047 %>% summarize(\n",
    "#     boot_intercept = ...,\n",
    "#     boot_slope = ...\n",
    "#   ) %>% unlist(),\n",
    "#   B_conf.low = lm_boot3047 %>% summarize(\n",
    "#     boot_intercept = ...,\n",
    "#     boot_slope = ...\n",
    "#   ) %>% unlist(),\n",
    "#   B_conf.high = lm_boot3047 %>% summarize(\n",
    "#     boot_intercept = ...,\n",
    "#     boot_slope = ...\n",
    "#   ) %>% unlist()\n",
    "# ) %>% mutate_if(is.numeric, round, 2)\n",
    "# boot_SLR_CIs\n",
    "\n",
    "# your code here\n",
    "fail() # No Answer - remove if you provide an answer"
   ]
  },
  {
   "cell_type": "code",
   "execution_count": null,
   "metadata": {
    "deletable": false,
    "editable": false,
    "nbgrader": {
     "cell_type": "code",
     "checksum": "9446b160bf0a9fb6ef45b234f62aa3ec",
     "grade": true,
     "grade_id": "cell-ef0c4b63ae9bcccb",
     "locked": true,
     "points": 1,
     "schema_version": 3,
     "solution": false,
     "task": false
    }
   },
   "outputs": [],
   "source": [
    "test_6.5()"
   ]
  },
  {
   "cell_type": "code",
   "execution_count": null,
   "metadata": {
    "deletable": false,
    "editable": false,
    "nbgrader": {
     "cell_type": "code",
     "checksum": "86dcde08c02319f7855f34dd63c0ecd9",
     "grade": false,
     "grade_id": "cell-83cc236a3c794c8c",
     "locked": true,
     "schema_version": 3,
     "solution": false,
     "task": false
    }
   },
   "outputs": [],
   "source": [
    "slope_sampling_dist_3047 <-  ggplot(lm_boot3047, aes(x = boot_slope)) +\n",
    "    geom_histogram(bins = 30, color = \"white\", fill = \"blue\") +\n",
    "    geom_vline(aes(xintercept = quantile(boot_slope,0.025)),size=1)+\n",
    "    geom_vline(aes(xintercept = quantile(boot_slope,0.975)),size=1) +\n",
    "    coord_cartesian(xlim = c(0, 3)) +\n",
    "    xlab(\"Estimated Slopes\") +\n",
    "    ggtitle(\"Sampling distribution and CI for the estimator of the slope, n=3047\")\n",
    "\n",
    "slope_sampling_dist_3047"
   ]
  }
 ],
 "metadata": {
  "jupytext": {
   "formats": "ipynb,Rmd"
  },
  "kernelspec": {
   "display_name": "R",
   "language": "R",
   "name": "ir"
  },
  "language_info": {
   "codemirror_mode": "r",
   "file_extension": ".r",
   "mimetype": "text/x-r-source",
   "name": "R",
   "pygments_lexer": "r",
   "version": "4.1.3"
  },
  "latex_envs": {
   "LaTeX_envs_menu_present": true,
   "autoclose": false,
   "autocomplete": true,
   "bibliofile": "biblio.bib",
   "cite_by": "apalike",
   "current_citInitial": 1,
   "eqLabelWithNumbers": true,
   "eqNumInitial": 1,
   "hotkeys": {
    "equation": "Ctrl-E",
    "itemize": "Ctrl-I"
   },
   "labels_anchors": false,
   "latex_user_defs": false,
   "report_style_numbering": false,
   "user_envs_cfg": false
  }
 },
 "nbformat": 4,
 "nbformat_minor": 4
}
