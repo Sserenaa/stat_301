{
 "cells": [
  {
   "cell_type": "markdown",
   "metadata": {
    "deletable": false,
    "editable": false,
    "nbgrader": {
     "cell_type": "markdown",
     "checksum": "2974239bc6dc4371344cce30631bc80b",
     "grade": false,
     "grade_id": "cell-f1e1d845873036f4",
     "locked": true,
     "schema_version": 3,
     "solution": false,
     "task": false
    }
   },
   "source": [
    "# Tutorial 3: Introduction to Generative Modelling"
   ]
  },
  {
   "cell_type": "markdown",
   "metadata": {
    "deletable": false,
    "editable": false,
    "nbgrader": {
     "cell_type": "markdown",
     "checksum": "0759b285d3e9aab838a8b34ac037782c",
     "grade": false,
     "grade_id": "cell-82d9926086d47a80",
     "locked": true,
     "schema_version": 3,
     "solution": false,
     "task": false
    }
   },
   "source": [
    "## Learning Objectives\n",
    "\n",
    "After completing this week's lecture and tutorial work, you will be able to:\n",
    "\n",
    "1. Give an example of a question that could be answered by generative modelling.\n",
    "2. Explain how a linear regression can be used to approximate the underlying mechanism that generated the data (quantitative response and input variables).\n",
    "3. Interpret the estimated coefficients and $p$-values derived from theoretical results for a simple linear regression (i.e., one input variable).\n",
    "4. Discuss the assumptions made to estimate the simple linear regression coefficients and approximate their sampling distribution.\n",
    "5. Explain how to approximate the sampling distribution of the simple linear regression coefficient estimators using bootstrapping. \n",
    "6. Contrast the sampling distribution approximated using theoretical results with bootstrapping alternatives for a simple linear regression setting.\n",
    "7. Compute confidence intervals for the simple linear regression coefficients using theoretical approximations and bootstrapping results.\n",
    "8. Write a computer script to perform simple linear regression analysis."
   ]
  },
  {
   "cell_type": "code",
   "execution_count": null,
   "metadata": {
    "deletable": false,
    "editable": false,
    "nbgrader": {
     "cell_type": "code",
     "checksum": "b31ce51e64e3c1ac8c19d41c49e6b293",
     "grade": false,
     "grade_id": "cell-a2a153352bc44a68",
     "locked": true,
     "schema_version": 3,
     "solution": false,
     "task": false
    }
   },
   "outputs": [],
   "source": [
    "# Run this cell before continuing.\n",
    "library(tidyverse)\n",
    "library(repr)\n",
    "library(digest)\n",
    "library(infer)\n",
    "library(cowplot)\n",
    "library(broom)\n",
    "library(GGally)\n",
    "source(\"tests_tutorial_03.R\")"
   ]
  },
  {
   "cell_type": "markdown",
   "metadata": {
    "deletable": false,
    "editable": false,
    "nbgrader": {
     "cell_type": "markdown",
     "checksum": "3734c11424e1d872ce35ad283985c6bd",
     "grade": false,
     "grade_id": "cell-8f7d7906c474a959",
     "locked": true,
     "schema_version": 3,
     "solution": false,
     "task": false
    }
   },
   "source": [
    "## 1. Warm Up Questions"
   ]
  },
  {
   "cell_type": "markdown",
   "metadata": {
    "deletable": false,
    "editable": false,
    "nbgrader": {
     "cell_type": "markdown",
     "checksum": "a23443a779cbe4672a69334222beec98",
     "grade": false,
     "grade_id": "cell-1f0ba393fba9e41b",
     "locked": true,
     "schema_version": 3,
     "solution": false,
     "task": false
    }
   },
   "source": [
    "**Question 1.0**\n",
    "<br>{points: 1}\n",
    "\n",
    "**True or false?**\n",
    "\n",
    "To estimate how the weight at birth of newborn child is affected by the socioeconomic status of the family and the parental stability, a researcher wants to use a linear regression. The variable 'newborn_weight' must be used as a response variable.\n",
    "\n",
    "*Assign your answer to an object called `answer1.0`. Your answer should be either \"true\" or \"false\", surrounded by quotes.*"
   ]
  },
  {
   "cell_type": "code",
   "execution_count": null,
   "metadata": {
    "deletable": false,
    "nbgrader": {
     "cell_type": "code",
     "checksum": "b6362fbfde87c9e5063a05b5e64ddca2",
     "grade": false,
     "grade_id": "cell-29f6b0bdc9445bb2",
     "locked": false,
     "schema_version": 3,
     "solution": true,
     "task": false
    }
   },
   "outputs": [],
   "source": [
    "# answer1.0 <- ...\n",
    "\n",
    "# your code here\n",
    "fail() # No Answer - remove if you provide an answer"
   ]
  },
  {
   "cell_type": "code",
   "execution_count": null,
   "metadata": {
    "deletable": false,
    "editable": false,
    "nbgrader": {
     "cell_type": "code",
     "checksum": "36a1251bff219f6434b68d3d10f99963",
     "grade": true,
     "grade_id": "cell-c6e402dd6ef02a3a",
     "locked": true,
     "points": 1,
     "schema_version": 3,
     "solution": false,
     "task": false
    }
   },
   "outputs": [],
   "source": [
    "test_1.0()"
   ]
  },
  {
   "cell_type": "markdown",
   "metadata": {
    "deletable": false,
    "editable": false,
    "nbgrader": {
     "cell_type": "markdown",
     "checksum": "9cce914aabd3416b8128d64257cb9279",
     "grade": false,
     "grade_id": "cell-257142f22ddbd528",
     "locked": true,
     "schema_version": 3,
     "solution": false,
     "task": false
    }
   },
   "source": [
    "**Question 1.1**\n",
    "<br>{points: 1}\n",
    "\n",
    "**True or false?**\n",
    "\n",
    "In a simple linear regression, the response is an exact linear function of the input variable, i.e.,\n",
    "\n",
    "$$Y = \\beta_0 + \\beta_1 X$$\n",
    "\n",
    "*Assign your answer to an object called `answer1.1`. Your answer should be either \"true\" or \"false\", surrounded by quotes.*"
   ]
  },
  {
   "cell_type": "code",
   "execution_count": null,
   "metadata": {
    "deletable": false,
    "nbgrader": {
     "cell_type": "code",
     "checksum": "9407a53e46bd788639c1ed7a461ce71a",
     "grade": false,
     "grade_id": "cell-698602a0493b66ef",
     "locked": false,
     "schema_version": 3,
     "solution": true,
     "task": false
    }
   },
   "outputs": [],
   "source": [
    "# answer1.1 <- ...\n",
    "\n",
    "# your code here\n",
    "fail() # No Answer - remove if you provide an answer"
   ]
  },
  {
   "cell_type": "code",
   "execution_count": null,
   "metadata": {
    "deletable": false,
    "editable": false,
    "nbgrader": {
     "cell_type": "code",
     "checksum": "beb88a4aac63074c8021e016ae833efc",
     "grade": true,
     "grade_id": "cell-beef4fa7f7f276fe",
     "locked": true,
     "points": 1,
     "schema_version": 3,
     "solution": false,
     "task": false
    }
   },
   "outputs": [],
   "source": [
    "test_1.1()"
   ]
  },
  {
   "cell_type": "markdown",
   "metadata": {
    "deletable": false,
    "editable": false,
    "nbgrader": {
     "cell_type": "markdown",
     "checksum": "78415e03f6efbb3f6e56fc20246949ca",
     "grade": false,
     "grade_id": "cell-26631c17b3d8e2c9",
     "locked": true,
     "schema_version": 3,
     "solution": false,
     "task": false
    }
   },
   "source": [
    "**Question 1.2**\n",
    "<br>{points: 1}\n",
    "\n",
    "**True or false?**\n",
    "\n",
    "The error term $\\varepsilon_i$ in the regression equation below  contains relevant explanatory variables not taken into account in the model.\n",
    "\n",
    "$$Y_i = \\beta_0 + \\beta_1 X_i + \\varepsilon_i$$\n",
    "\n",
    "*Assign your answer to an object called `answer1.2`. Your answer should be either \"true\" or \"false\", surrounded by quotes.*"
   ]
  },
  {
   "cell_type": "code",
   "execution_count": null,
   "metadata": {
    "deletable": false,
    "nbgrader": {
     "cell_type": "code",
     "checksum": "5ba41a6a01ea68435a7f9b0542c09784",
     "grade": false,
     "grade_id": "cell-4b335cebcde30e1b",
     "locked": false,
     "schema_version": 3,
     "solution": true,
     "task": false
    }
   },
   "outputs": [],
   "source": [
    "# answer1.2 <- ...\n",
    "\n",
    "# your code here\n",
    "fail() # No Answer - remove if you provide an answer"
   ]
  },
  {
   "cell_type": "code",
   "execution_count": null,
   "metadata": {
    "deletable": false,
    "editable": false,
    "nbgrader": {
     "cell_type": "code",
     "checksum": "9c9f1e3a521ae0f679dc387e57aebbe7",
     "grade": true,
     "grade_id": "cell-75f9ed0505b50f5f",
     "locked": true,
     "points": 1,
     "schema_version": 3,
     "solution": false,
     "task": false
    }
   },
   "outputs": [],
   "source": [
    "test_1.2()"
   ]
  },
  {
   "cell_type": "markdown",
   "metadata": {
    "deletable": false,
    "editable": false,
    "nbgrader": {
     "cell_type": "markdown",
     "checksum": "62e0bb75d774dcff52f8ee49a886169f",
     "grade": false,
     "grade_id": "cell-a6eb420d8b2ac120",
     "locked": true,
     "schema_version": 3,
     "solution": false,
     "task": false
    }
   },
   "source": [
    "**Question 1.3**\n",
    "<br>{points: 1}\n",
    "\n",
    "**True or false?**\n",
    "\n",
    "The population regression coefficient $\\beta_1$ is always known, and we do not have to estimate it.\n",
    "\n",
    "*Assign your answer to an object called `answer1.5`. Your answer should be either \"true\" or \"false\", surrounded by quotes.*"
   ]
  },
  {
   "cell_type": "code",
   "execution_count": null,
   "metadata": {
    "deletable": false,
    "nbgrader": {
     "cell_type": "code",
     "checksum": "6c7bd18008274221289898df104e1e81",
     "grade": false,
     "grade_id": "cell-b3c45d32dc92b244",
     "locked": false,
     "schema_version": 3,
     "solution": true,
     "task": false
    }
   },
   "outputs": [],
   "source": [
    "# answer1.3 <- ...\n",
    "\n",
    "# your code here\n",
    "fail() # No Answer - remove if you provide an answer"
   ]
  },
  {
   "cell_type": "code",
   "execution_count": null,
   "metadata": {
    "deletable": false,
    "editable": false,
    "nbgrader": {
     "cell_type": "code",
     "checksum": "9e68ddfc8dc65100c49e7f4ae4d7fbb8",
     "grade": true,
     "grade_id": "cell-bd4a51cafe438c2f",
     "locked": true,
     "points": 1,
     "schema_version": 3,
     "solution": false,
     "task": false
    }
   },
   "outputs": [],
   "source": [
    "test_1.3()"
   ]
  },
  {
   "cell_type": "markdown",
   "metadata": {
    "deletable": false,
    "editable": false,
    "nbgrader": {
     "cell_type": "markdown",
     "checksum": "44c33786395558774e89601cdd279881",
     "grade": false,
     "grade_id": "cell-f68d435da93f5cd8",
     "locked": true,
     "schema_version": 3,
     "solution": false,
     "task": false
    }
   },
   "source": [
    "## 2. Data Exploratory Analysis\n",
    "\n",
    "An important step in any data analysis is to explore and know important characteristics of the data. This includes, but it is not limited to:\n",
    "\n",
    "- knowing the size of the data \n",
    "\n",
    "- examining distributions of all variables using graphical and numerical summaries\n",
    "\n",
    "- identifying missing values and potential outliers\n",
    "\n",
    "- beginning to discover relationships between variables\n",
    "\n",
    "This step, usually referred as **Eploratory Data Analysis (EDA)**, is generally the first step in the analysis. However, a typical data science workflow is never linear and you may need to continue exploring the data at many points of the analysis path.\n",
    "\n",
    "> **Heads-up**: Professors Peng and Matsui in their book \"The Art of Data Science\" described this process with **epicycles**"
   ]
  },
  {
   "cell_type": "markdown",
   "metadata": {
    "deletable": false,
    "editable": false,
    "nbgrader": {
     "cell_type": "markdown",
     "checksum": "369ef0abe268cb3dc6b1ad9b80ed17b5",
     "grade": false,
     "grade_id": "cell-016fe62d01b50fa2",
     "locked": true,
     "schema_version": 3,
     "solution": false,
     "task": false
    }
   },
   "source": [
    "###  EDA Checklist\n",
    "\n",
    "> From The Art of Data Science (by Peng and Matsui)\n",
    "\n",
    "1. Formulate your question\n",
    "2. Read in your data\n",
    "3. Check the packaging\n",
    "4. Look at the top and the bottom of your data\n",
    "5. Check your “n”s"
   ]
  },
  {
   "cell_type": "markdown",
   "metadata": {
    "deletable": false,
    "editable": false,
    "nbgrader": {
     "cell_type": "markdown",
     "checksum": "3188832eaee8dc01d02e419dccfd7283",
     "grade": false,
     "grade_id": "cell-cf77061785254742",
     "locked": true,
     "schema_version": 3,
     "solution": false,
     "task": false
    }
   },
   "source": [
    "#### The question\n",
    "\n",
    "As a community manager of a cosmetics brand, you are interested in incorporating social media marketing communication to leverage your business. Thus, you want to determine which variables are associated with the impact of posts. "
   ]
  },
  {
   "cell_type": "markdown",
   "metadata": {
    "deletable": false,
    "editable": false,
    "nbgrader": {
     "cell_type": "markdown",
     "checksum": "fd1c20e0d7ef35fcc5df3815724802c3",
     "grade": false,
     "grade_id": "cell-448d647bdb079323",
     "locked": true,
     "schema_version": 3,
     "solution": false,
     "task": false
    }
   },
   "source": [
    "#### Read in the data\n",
    "\n",
    "In this tutorial, you will use part of the **Facebook dataset** to answer this question. This dataset contains critical information on users' engagement during 2014 on a Facebook page of a famous cosmetics brand. The original dataset contains 500 observations and 17 variables of different types (continuous and discrete). It can be found in [data.world](https://data.world/uci/facebook-metrics/workspace/project-summary?agentid=uci&datasetid=facebook-metrics). \n",
    "\n",
    "In this tutorial, you will work with a slightly smaller dataset containing 491 observations that was firstly analyzed by [Moro et al. (2016)](https://gw2jh3xr2c.search.serialssolutions.com/log?L=GW2JH3XR2C&D=ADALY&J=JOUROFBUSRE&P=Link&PT=EZProxy&A=Predicting+social+media+performance+metrics+and+evaluation+of+the+impact+on+brand+building%3A+A+data+mining+approach&H=d8c19bb47c&U=https%3A%2F%2Fezproxy.library.ubc.ca%2Flogin%3Furl%3Dhttps%3A%2F%2Fwww.sciencedirect.com%2Fscience%2Flink%3Fref_val_fmt%3Dinfo%3Aofi%2Ffmt%3Akev%3Amtx%3Ajournal%26svc_val_fmt%3Dinfo%3Aofi%2Ffmt%3Akev%3Amtx%3Asch_srv%26rfr_dat%3Dsaltver%3A1%26rfr_dat%3Dorigin%3ASERIALSSOL%26ctx_enc%3Dinfo%3Aofi%2Fenc%3AUTF-8%26ctx_ver%3DZ39.88-2004%26rft_id%3Dinfo%3Adoi%2F10.1016%2Fj.jbusres.2016.02.010) to predict impact of posts using different performance metrics. \n",
    "\n",
    "Consider the dataset `facebook_data` as your *random sample* (like in DSCI 100 and STAT 201!) in your analysis.\n",
    "\n",
    "> **Heads up**: Recall the importance of using a *random* sample to obtain representative summaries and broad conclusions!\n",
    "\n",
    "Let's start by reading this dataset!"
   ]
  },
  {
   "cell_type": "code",
   "execution_count": null,
   "metadata": {
    "deletable": false,
    "editable": false,
    "nbgrader": {
     "cell_type": "code",
     "checksum": "05b94e74c93600fa37dcf06f3c49cf4a",
     "grade": false,
     "grade_id": "cell-efb34ebf5c1ca2a3",
     "locked": true,
     "schema_version": 3,
     "solution": false,
     "task": false
    }
   },
   "outputs": [],
   "source": [
    "facebook_data <- read_csv(\"data/facebook_data.csv\") %>%\n",
    "  select(total_engagement_percentage, page_engagement_percentage, share_percentage, comment_percentage, )"
   ]
  },
  {
   "cell_type": "markdown",
   "metadata": {
    "deletable": false,
    "editable": false,
    "nbgrader": {
     "cell_type": "markdown",
     "checksum": "ffdf6d64c153ba3aff0b5e5a3aee1621",
     "grade": false,
     "grade_id": "cell-24f79624281617a3",
     "locked": true,
     "schema_version": 3,
     "solution": false,
     "task": false
    }
   },
   "source": [
    "The object `facebook_data` contained four (of the original 17) variables:\n",
    "\n",
    "1.  The continuous variable `total_engagement_percentage` is an essential variable for any company owning a Facebook page. It gives a sense of how engaged the overall social network's users are with the company's posts, **regardless of whether they previously liked their Facebook page or not**. *The larger the percentage, the better the total engagement*. It is computed as follows:\n",
    "\n",
    "$$\\texttt{total_engagement_percentage} = \\frac{\\text{Lifetime Engaged Users}}{\\text{Lifetime Post Total Reach}} \\times 100\\%$$\n",
    "\n",
    "-   **Lifetime Post Total Reach:** The number of overall *Facebook unique users* who *saw* the post.\n",
    "-   **Lifetime Engaged Users:** The number of overall *Facebook unique users* who *saw and clicked* on the post. This count is a subset of **Lifetime Post Total Reach**.\n",
    "\n",
    "2.  The continuous variable `page_engagement_percentage` is analogous to `total_engagement_percentage`, but only with users who engaged with the post **given they have liked the page**. This variable provides a sense to the company to what extent these subscribed users react to its posts. *The larger the percentage, the better the page engagement*. It is computed as follows:\n",
    "\n",
    "$$\\texttt{page_engagement_percentage} = \\frac{\\text{Lifetime Users Who Have Liked the Page and Engaged with the Post}}{\\text{Lifetime Post Reach by Users Who Liked the Page}} \\times 100\\% $$\n",
    "\n",
    "-   **Lifetime Post Reach by Users Who Liked the Page:** The number of *Facebook unique page subscribers* who *saw* the post.\n",
    "-   **Lifetime Users Who Have Liked the Page and Engaged with the Posts:** The number of *Facebook unique page subscribers* who *saw and clicked* on the post. This count is a subset of **Lifetime Post Reach by Users Who Liked the Page**.\n",
    "\n",
    "3.  The continuous `share_percentage` is the percentage that the number of *shares* represents from the sum of *likes*, *comments*, and *shares* in each post. It is computed as follows:\n",
    "\n",
    "$$\\texttt{share_percentage} = \\frac{\\text{Number of Shares}}{\\text{Total Post Interactions}} \\times 100\\% $$\n",
    "\n",
    "-   **Total Post Interactions:** The sum of *likes*, *comments*, and *shares* in a given post.\n",
    "-   **Number of Shares:** The number of *shares* in a given post. This count is a subset of *Total Post Interactions*.\n",
    "\n",
    "4.  The continuous `comment_percentage` is the percentage that the number of *comments* represents from the sum of *likes*, *comments*, and *shares* in each post. It is computed as follows:\n",
    "\n",
    "$$\\texttt{comment_percentage} = \\frac{\\text{Number of Comments}}{\\text{Total Post Interactions}} \\times 100\\% $$\n",
    "\n",
    "-   **Total Post Interactions:** The sum of *likes*, *comments*, and *shares* in a given post.\n",
    "-   **Number of Comments:** The number of *comments* in a given post. This count is a subset of *Total Post Interactions*."
   ]
  },
  {
   "cell_type": "markdown",
   "metadata": {
    "deletable": false,
    "editable": false,
    "nbgrader": {
     "cell_type": "markdown",
     "checksum": "0e032c703c198412ced7225859a8b22d",
     "grade": false,
     "grade_id": "cell-ffd1efc1b0dba586",
     "locked": true,
     "schema_version": 3,
     "solution": false,
     "task": false
    }
   },
   "source": [
    "#### Check the packaging"
   ]
  },
  {
   "cell_type": "code",
   "execution_count": null,
   "metadata": {
    "deletable": false,
    "editable": false,
    "nbgrader": {
     "cell_type": "code",
     "checksum": "812c66e3af5b5585a3d15c4ab20a87c0",
     "grade": false,
     "grade_id": "cell-69edafdafca96ce8",
     "locked": true,
     "schema_version": 3,
     "solution": false,
     "task": false
    }
   },
   "outputs": [],
   "source": [
    "str(facebook_data)"
   ]
  },
  {
   "cell_type": "markdown",
   "metadata": {
    "deletable": false,
    "editable": false,
    "nbgrader": {
     "cell_type": "markdown",
     "checksum": "c14bc70f91f5a9089ff8abd23ced494c",
     "grade": false,
     "grade_id": "cell-d8acc548e5c64ae4",
     "locked": true,
     "schema_version": 3,
     "solution": false,
     "task": false
    }
   },
   "source": [
    "#### 2.4. Look at the top and the bottom of your data"
   ]
  },
  {
   "cell_type": "markdown",
   "metadata": {
    "deletable": false,
    "editable": false,
    "nbgrader": {
     "cell_type": "markdown",
     "checksum": "fe0fcbf7c216575568433b3173b1f194",
     "grade": false,
     "grade_id": "cell-468ffcc0b7bab51e",
     "locked": true,
     "schema_version": 3,
     "solution": false,
     "task": false
    }
   },
   "source": [
    "**Question 2.0**\n",
    "<br>{points: 1}\n",
    "\n",
    "Get the first and last 3 rows of `facebook_data`. Call these new objects `facebook_data_top` and `facebook_data_tail`, respectively.\n",
    "\n",
    "*Fill out those parts indicated with ..., uncomment the corresponding code in the cell below, and run it.*"
   ]
  },
  {
   "cell_type": "code",
   "execution_count": null,
   "metadata": {
    "deletable": false,
    "nbgrader": {
     "cell_type": "code",
     "checksum": "8c4bd95865ea935011f2d2eafb5655db",
     "grade": false,
     "grade_id": "cell-13a3de40e4cb6cf1",
     "locked": false,
     "schema_version": 3,
     "solution": true,
     "task": false
    }
   },
   "outputs": [],
   "source": [
    "# facebook_data_head <- ... %>% ...(...)\n",
    "# facebook_data_tail <- ... %>% ...(...)\n",
    "#facebook_data_head\n",
    "#facebook_data_tail\n",
    "\n",
    "# your code here\n",
    "fail() # No Answer - remove if you provide an answer"
   ]
  },
  {
   "cell_type": "code",
   "execution_count": null,
   "metadata": {
    "deletable": false,
    "editable": false,
    "nbgrader": {
     "cell_type": "code",
     "checksum": "ffd0066afeb38d11c97a77dbbc30fce3",
     "grade": true,
     "grade_id": "cell-3a4512fc9d878ef6",
     "locked": true,
     "points": 1,
     "schema_version": 3,
     "solution": false,
     "task": false
    }
   },
   "outputs": [],
   "source": [
    "test_2.0()"
   ]
  },
  {
   "cell_type": "markdown",
   "metadata": {
    "deletable": false,
    "editable": false,
    "nbgrader": {
     "cell_type": "markdown",
     "checksum": "088ea8168d3f3b03cd54f8de21ff20d2",
     "grade": false,
     "grade_id": "cell-759f30a6340f70fd",
     "locked": true,
     "schema_version": 3,
     "solution": false,
     "task": false
    }
   },
   "source": [
    "#### Check your “n”s"
   ]
  },
  {
   "cell_type": "markdown",
   "metadata": {
    "deletable": false,
    "editable": false,
    "nbgrader": {
     "cell_type": "markdown",
     "checksum": "95c5b96a268c8f325006b1dac7033a9e",
     "grade": false,
     "grade_id": "cell-b65767ccfba609d1",
     "locked": true,
     "schema_version": 3,
     "solution": false,
     "task": false
    }
   },
   "source": [
    "**Question 2.1**\n",
    "<br>{points: 1}\n",
    "\n",
    "Check the dimensions of `facebook_data`. Call these new objects `facebook_data_dim`.\n",
    "\n",
    "**2.1.** How many counties are there in the dataset `facebook_data`?\n",
    "\n",
    "*Fill out those parts indicated with ..., uncomment the corresponding code in the cell below, and run it. Assign your answers to the object `answer2.1` (numeric type).*"
   ]
  },
  {
   "cell_type": "code",
   "execution_count": null,
   "metadata": {
    "deletable": false,
    "nbgrader": {
     "cell_type": "code",
     "checksum": "7f13ab6b94f72618a3fb31ba5cfcf219",
     "grade": false,
     "grade_id": "cell-34849b5d805e2550",
     "locked": false,
     "schema_version": 3,
     "solution": true,
     "task": false
    }
   },
   "outputs": [],
   "source": [
    "# facebook_data_dim <- ...\n",
    "# facebook_data_dim\n",
    "# answer2.1 <- ...\n",
    "# answer2.1\n",
    "\n",
    "# your code here\n",
    "fail() # No Answer - remove if you provide an answer"
   ]
  },
  {
   "cell_type": "code",
   "execution_count": null,
   "metadata": {
    "deletable": false,
    "editable": false,
    "nbgrader": {
     "cell_type": "code",
     "checksum": "6eed2b93b271c7ee0361e94007e330f5",
     "grade": true,
     "grade_id": "cell-9e5f4eaa53084b69",
     "locked": true,
     "points": 1,
     "schema_version": 3,
     "solution": false,
     "task": false
    }
   },
   "outputs": [],
   "source": [
    "test_2.1()"
   ]
  },
  {
   "cell_type": "markdown",
   "metadata": {
    "deletable": false,
    "editable": false,
    "nbgrader": {
     "cell_type": "markdown",
     "checksum": "94b9a7a83ac8159e774357d4e3a25c7c",
     "grade": false,
     "grade_id": "cell-c793cb54dfccb989",
     "locked": true,
     "schema_version": 3,
     "solution": false,
     "task": false
    }
   },
   "source": [
    "#### Get summary statistics\n",
    "\n",
    "In this example, we will obtain some useful summary statistics of all the variables in the dataset. \n",
    "\n",
    "- Use the `gather` function to convert the dataset into a *long* format\n",
    "\n",
    "- Then use `summarise` to obtain summary statistic"
   ]
  },
  {
   "cell_type": "code",
   "execution_count": null,
   "metadata": {
    "deletable": false,
    "editable": false,
    "nbgrader": {
     "cell_type": "code",
     "checksum": "c67abd5e36e60da81abc7434b5656265",
     "grade": false,
     "grade_id": "cell-86fa0724f9be2968",
     "locked": true,
     "schema_version": 3,
     "solution": false,
     "task": false
    }
   },
   "outputs": [],
   "source": [
    "facebook_data_long <- gather(facebook_data, factor_key=TRUE)\n",
    "head(facebook_data_long)"
   ]
  },
  {
   "cell_type": "markdown",
   "metadata": {
    "deletable": false,
    "editable": false,
    "nbgrader": {
     "cell_type": "markdown",
     "checksum": "85772370e13891bfe443c4662aaa8f27",
     "grade": false,
     "grade_id": "cell-f3f4280bd4c3e5c6",
     "locked": true,
     "schema_version": 3,
     "solution": false,
     "task": false
    }
   },
   "source": [
    "**Question 2.2**\n",
    "<br>{points: 1}\n",
    "\n",
    "Otain the sample mean, standard deviation, maximum and minimum summary statistics for all variables and save them into an object called `facebook_data_stats`\n",
    "\n",
    "*Fill out those parts indicated with `...`, uncomment the corresponding code in the cell below, and run it.*"
   ]
  },
  {
   "cell_type": "code",
   "execution_count": null,
   "metadata": {
    "deletable": false,
    "nbgrader": {
     "cell_type": "code",
     "checksum": "a7a0c8684174455184b6197b3ab7efde",
     "grade": false,
     "grade_id": "cell-5a01e81c2c3ab56d",
     "locked": false,
     "schema_version": 3,
     "solution": true,
     "task": false
    }
   },
   "outputs": [],
   "source": [
    "# facebook_data_stats <- facebook_data_long %>% group_by(...)%>%\n",
    "#  summarise(mean= ...(...), sd= ...(...), max = ...(...),min = ...(...))\n",
    "# facebook_data_stats \n",
    "\n",
    "# your code here\n",
    "fail() # No Answer - remove if you provide an answer"
   ]
  },
  {
   "cell_type": "code",
   "execution_count": null,
   "metadata": {
    "deletable": false,
    "editable": false,
    "nbgrader": {
     "cell_type": "code",
     "checksum": "000700e32cc883eaff2440c954687705",
     "grade": true,
     "grade_id": "cell-f87e2085b6dc9430",
     "locked": true,
     "points": 1,
     "schema_version": 3,
     "solution": false,
     "task": false
    }
   },
   "outputs": [],
   "source": [
    "test_2.2()"
   ]
  },
  {
   "cell_type": "markdown",
   "metadata": {
    "deletable": false,
    "editable": false,
    "nbgrader": {
     "cell_type": "markdown",
     "checksum": "0127b521b9d9910626ff189137ed2ffd",
     "grade": false,
     "grade_id": "cell-80b2c217a7dbed01",
     "locked": true,
     "schema_version": 3,
     "solution": false,
     "task": false
    }
   },
   "source": [
    "#### Check the distribution of the variables\n",
    "\n",
    "Although not mentioned in the previous checklist, an important item in the EDA is to check the distribution of your variables. "
   ]
  },
  {
   "cell_type": "markdown",
   "metadata": {
    "deletable": false,
    "editable": false,
    "nbgrader": {
     "cell_type": "markdown",
     "checksum": "b6d149713bb3bc304ae40f5434cc91c5",
     "grade": false,
     "grade_id": "cell-c09cfc89f74e515e",
     "locked": true,
     "schema_version": 3,
     "solution": false,
     "task": false
    }
   },
   "source": [
    "**Question 2.7**\n",
    "<br>{points: 1}\n",
    "\n",
    "As a community manager of the cosmetics brand, you are interested in determining the inputs associated with the main metric `total_engagement_percentage`.\n",
    "\n",
    "Use the plotting function `ggpairs()`, from the library `GGally`, to generate a pair plot **of ALL the variables found in `facebook_data`**. The `ggplot()` object's name will be `facebook_pair_plots`. \n",
    "\n",
    "*Fill out those parts indicated with `...`, uncomment the corresponding code in the cell below, and run it.*"
   ]
  },
  {
   "cell_type": "code",
   "execution_count": null,
   "metadata": {
    "deletable": false,
    "nbgrader": {
     "cell_type": "code",
     "checksum": "4dd73835f00321b13b5a5ac3fc761ab7",
     "grade": false,
     "grade_id": "cell-fdbe2d5bd858f25e",
     "locked": false,
     "schema_version": 3,
     "solution": true,
     "task": false
    }
   },
   "outputs": [],
   "source": [
    "options(repr.plot.width = 15, repr.plot.height = 12) # Adjust these numbers so the plot looks good in your desktop.\n",
    "\n",
    "# facebook_pair_plots <- ... %>%\n",
    "#   ...(progress = FALSE) +\n",
    "#   theme(\n",
    "#     text = element_text(size = 15),\n",
    "#     plot.title = element_text(face = \"bold\"),\n",
    "#     axis.title = element_text(face = \"bold\")\n",
    "#   )\n",
    "# facebook_pair_plots\n",
    "\n",
    "# your code here\n",
    "fail() # No Answer - remove if you provide an answer"
   ]
  },
  {
   "cell_type": "code",
   "execution_count": null,
   "metadata": {
    "deletable": false,
    "editable": false,
    "nbgrader": {
     "cell_type": "code",
     "checksum": "da9c52262d1eec8365efc6e2e516515e",
     "grade": true,
     "grade_id": "cell-904f59a978421cd6",
     "locked": true,
     "points": 1,
     "schema_version": 3,
     "solution": false,
     "task": false
    }
   },
   "outputs": [],
   "source": [
    "test_2.7()"
   ]
  },
  {
   "cell_type": "markdown",
   "metadata": {
    "deletable": false,
    "editable": false,
    "nbgrader": {
     "cell_type": "markdown",
     "checksum": "db2780dd65c8faa5160696a3a893c9e4",
     "grade": false,
     "grade_id": "cell-5449843681852172",
     "locked": true,
     "schema_version": 3,
     "solution": false,
     "task": false
    }
   },
   "source": [
    "> **Heads up**: compare the output of the function `ggpairs()` with that of the function `pairs()` used in `worksheet_03`. Which one do you prefer? No need to answer here, just think about it and discuss it with peers if you want!"
   ]
  },
  {
   "cell_type": "markdown",
   "metadata": {
    "deletable": false,
    "editable": false,
    "nbgrader": {
     "cell_type": "markdown",
     "checksum": "720459d5a69a1c1d6a5a4f129a4ef81f",
     "grade": false,
     "grade_id": "cell-c92761166fec8ff4",
     "locked": true,
     "schema_version": 3,
     "solution": false,
     "task": false
    }
   },
   "source": [
    "**Question 2.8**\n",
    "<br>{points: 1}\n",
    "\n",
    "Looking at the distribution of `page_engagement_percentage`, how would you describe the empirical distribution of this variable?\n",
    "\n",
    "**A.** Fairly symmetric.\n",
    "\n",
    "**B.** Left-skewed.\n",
    "\n",
    "**C.** Right-skewed.\n",
    "\n",
    "*Assign your answer to an object called `answer2.8`. Your answer should be one of `\"A\"`, `\"B\"`, or `\"C\"` surrounded by quotes.*"
   ]
  },
  {
   "cell_type": "code",
   "execution_count": null,
   "metadata": {
    "deletable": false,
    "nbgrader": {
     "cell_type": "code",
     "checksum": "5a257cd4a80f3ef1fab207b6e679692f",
     "grade": false,
     "grade_id": "cell-2649bbec0ac3611c",
     "locked": false,
     "schema_version": 3,
     "solution": true,
     "task": false
    }
   },
   "outputs": [],
   "source": [
    "# answer2.8 <- ...\n",
    "\n",
    "# your code here\n",
    "fail() # No Answer - remove if you provide an answer"
   ]
  },
  {
   "cell_type": "code",
   "execution_count": null,
   "metadata": {
    "deletable": false,
    "editable": false,
    "nbgrader": {
     "cell_type": "code",
     "checksum": "35244539746d9110f52453ea21fba95e",
     "grade": true,
     "grade_id": "cell-bd862def38ee135d",
     "locked": true,
     "points": 1,
     "schema_version": 3,
     "solution": false,
     "task": false
    }
   },
   "outputs": [],
   "source": [
    "test_2.8()"
   ]
  },
  {
   "cell_type": "markdown",
   "metadata": {
    "deletable": false,
    "editable": false,
    "nbgrader": {
     "cell_type": "markdown",
     "checksum": "975aa6e07680254bc921a73c7a61f3bd",
     "grade": false,
     "grade_id": "cell-1e846ffbbe3addf9",
     "locked": true,
     "schema_version": 3,
     "solution": false,
     "task": false
    }
   },
   "source": [
    "# 3. Simple Linear Regression (SLR)"
   ]
  },
  {
   "cell_type": "markdown",
   "metadata": {
    "deletable": false,
    "editable": false,
    "nbgrader": {
     "cell_type": "markdown",
     "checksum": "53394424ade441709a08e5840d26f36f",
     "grade": false,
     "grade_id": "cell-c47f46561d961141",
     "locked": true,
     "schema_version": 3,
     "solution": false,
     "task": false
    }
   },
   "source": [
    "**Question 3.0**\n",
    "<br>{points: 1}\n",
    "\n",
    "Based on the visual inspection of the relationship between the variables in the data, you decide to use a simple linear regression (SLR) to study the relation of `total_engagement_percentage` and `page_engagement_percentage`. \n",
    "\n",
    "How would you describe the graphical association between these two variables?\n",
    "\n",
    "**A.** Positive.\n",
    "\n",
    "**B.** Negative.\n",
    "\n",
    "*Assign your answer to an object called `answer3.0`. Your answer should be one of `\"A\"` or `\"B\"` surrounded by quotes.*"
   ]
  },
  {
   "cell_type": "code",
   "execution_count": null,
   "metadata": {
    "deletable": false,
    "nbgrader": {
     "cell_type": "code",
     "checksum": "5d8ae9e2ea3e0ecd2092f4f10e2e1d4f",
     "grade": false,
     "grade_id": "cell-575c921b7f74873c",
     "locked": false,
     "schema_version": 3,
     "solution": true,
     "task": false
    }
   },
   "outputs": [],
   "source": [
    "# answer3.0 <- ...\n",
    "\n",
    "# your code here\n",
    "fail() # No Answer - remove if you provide an answer"
   ]
  },
  {
   "cell_type": "code",
   "execution_count": null,
   "metadata": {
    "deletable": false,
    "editable": false,
    "nbgrader": {
     "cell_type": "code",
     "checksum": "a83b08b77177fd8a812e0b6fb8496748",
     "grade": true,
     "grade_id": "cell-4bb12d40a3a8f9b4",
     "locked": true,
     "points": 1,
     "schema_version": 3,
     "solution": false,
     "task": false
    }
   },
   "outputs": [],
   "source": [
    "test_3.0()"
   ]
  },
  {
   "cell_type": "markdown",
   "metadata": {
    "deletable": false,
    "editable": false,
    "nbgrader": {
     "cell_type": "markdown",
     "checksum": "86b12ecf9076999a4e6e99f4b803acc9",
     "grade": false,
     "grade_id": "cell-fedadba17e6eec60",
     "locked": true,
     "schema_version": 3,
     "solution": false,
     "task": false
    }
   },
   "source": [
    "**Question 3.1**\n",
    "<br>{points: 1}\n",
    "\n",
    "Within the context of this exercise, answer the following:\n",
    "\n",
    "3.1.0. Which variable will you choose as a response $Y$? Answer with the column's name from `facebook_data`.\n",
    "\n",
    "3.1.1. Which variable will you choose as the input $X$? Answer with the column's name from `facebook_data`.\n",
    "\n",
    "*Assign your answers to the objects answer3.1.0 (character type surrounded by quotes), answer3.1.1 (character type surrounded by quotes).*"
   ]
  },
  {
   "cell_type": "code",
   "execution_count": null,
   "metadata": {
    "deletable": false,
    "nbgrader": {
     "cell_type": "code",
     "checksum": "6598d8eed586bbf5bad4d447f544ca0f",
     "grade": false,
     "grade_id": "cell-ff07c675bb5106b2",
     "locked": false,
     "schema_version": 3,
     "solution": true,
     "task": false
    }
   },
   "outputs": [],
   "source": [
    "# answer3.1.0 <- ...\n",
    "# answer3.1.0\n",
    "# answer3.1.1 <- ...\n",
    "# answer3.1.1\n",
    "\n",
    "# your code here\n",
    "fail() # No Answer - remove if you provide an answer"
   ]
  },
  {
   "cell_type": "code",
   "execution_count": null,
   "metadata": {
    "deletable": false,
    "editable": false,
    "nbgrader": {
     "cell_type": "code",
     "checksum": "f6d91f092b29468d2c3dac1265760779",
     "grade": true,
     "grade_id": "cell-42ab438339d8ae20",
     "locked": true,
     "points": 1,
     "schema_version": 3,
     "solution": false,
     "task": false
    }
   },
   "outputs": [],
   "source": [
    "test_3.1.0()\n",
    "test_3.1.1()"
   ]
  },
  {
   "cell_type": "markdown",
   "metadata": {
    "deletable": false,
    "editable": false,
    "nbgrader": {
     "cell_type": "markdown",
     "checksum": "3707bca0de3e6a5658f1a03b60f9d328",
     "grade": false,
     "grade_id": "cell-7779aba406403e7c",
     "locked": true,
     "schema_version": 3,
     "solution": false,
     "task": false
    }
   },
   "source": [
    "**Question 3.2**\n",
    "<br>{points: 1}\n",
    "\n",
    "Fit the SLR model proposed and assign it to the object `facebook_SLR`.\n",
    "\n",
    "*Fill out those parts indicated with `...`, uncomment the corresponding code in the cell below, and run it.*"
   ]
  },
  {
   "cell_type": "code",
   "execution_count": null,
   "metadata": {
    "deletable": false,
    "nbgrader": {
     "cell_type": "code",
     "checksum": "474ea0a6520de84282ce0826caf638be",
     "grade": false,
     "grade_id": "cell-5d5858041fa44df8",
     "locked": false,
     "schema_version": 3,
     "solution": true,
     "task": false
    }
   },
   "outputs": [],
   "source": [
    "# facebook_SLR <- ...(... ~ ...,\n",
    "#   data = ...\n",
    "# )\n",
    "# facebook_SLR\n",
    "\n",
    "# your code here\n",
    "fail() # No Answer - remove if you provide an answer"
   ]
  },
  {
   "cell_type": "code",
   "execution_count": null,
   "metadata": {
    "deletable": false,
    "editable": false,
    "nbgrader": {
     "cell_type": "code",
     "checksum": "99979bd4e259fa578a3d96ef2b96d510",
     "grade": true,
     "grade_id": "cell-e689eddd3550d8aa",
     "locked": true,
     "points": 1,
     "schema_version": 3,
     "solution": false,
     "task": false
    }
   },
   "outputs": [],
   "source": [
    "test_3.2()"
   ]
  },
  {
   "cell_type": "markdown",
   "metadata": {
    "deletable": false,
    "editable": false,
    "nbgrader": {
     "cell_type": "markdown",
     "checksum": "dad4b6fd47a1ba1986ac2e9d044ed4e7",
     "grade": false,
     "grade_id": "cell-eadd4d25d933e61b",
     "locked": true,
     "schema_version": 3,
     "solution": false,
     "task": false
    }
   },
   "source": [
    "**Question 3.3**\n",
    "<br>{points: 1}\n",
    "\n",
    "Find the estimated coefficients of `facebook_SLR` using `tidy()`. Report the estimated coefficients, their standard errors and corresponding $p$-values. Include the corresponding asymptotic 95% confidence intervals. Store the results in the variable `facebook_SLR_results`.\n",
    "\n",
    "*Fill out those parts indicated with `...`, uncomment the corresponding code in the cell below, and run it.*"
   ]
  },
  {
   "cell_type": "code",
   "execution_count": null,
   "metadata": {
    "deletable": false,
    "nbgrader": {
     "cell_type": "code",
     "checksum": "6b26107a8aeee58acebd51656b4b07a8",
     "grade": false,
     "grade_id": "cell-de75e38914c8bd71",
     "locked": false,
     "schema_version": 3,
     "solution": true,
     "task": false
    }
   },
   "outputs": [],
   "source": [
    "# facebook_SLR_results <- ...(..., conf.int = ...) %>% mutate_if(is.numeric, round, 2)\n",
    "# facebook_SLR_results\n",
    "\n",
    "# your code here\n",
    "fail() # No Answer - remove if you provide an answer"
   ]
  },
  {
   "cell_type": "code",
   "execution_count": null,
   "metadata": {
    "deletable": false,
    "editable": false,
    "nbgrader": {
     "cell_type": "code",
     "checksum": "bd5127a60d80a099cc49120535884eda",
     "grade": true,
     "grade_id": "cell-5e03179285a5ab4c",
     "locked": true,
     "points": 1,
     "schema_version": 3,
     "solution": false,
     "task": false
    }
   },
   "outputs": [],
   "source": [
    "test_3.3()"
   ]
  },
  {
   "cell_type": "markdown",
   "metadata": {
    "deletable": false,
    "editable": false,
    "nbgrader": {
     "cell_type": "markdown",
     "checksum": "f7ae6e4cbd54ffbcddbb50e0f9a112e7",
     "grade": false,
     "grade_id": "cell-9f32068b813c12cd",
     "locked": true,
     "schema_version": 3,
     "solution": false,
     "task": false
    }
   },
   "source": [
    "**Question 3.4**\n",
    "<br>{points: 1}\n",
    "\n",
    "Using `facebook_data`, create a scatterplot of the response $Y$ versus the input $X$. Add the estimated SLR!\n",
    "\n",
    "Call the resulting object `facebook_scatterplot`.\n",
    "\n",
    "*Fill out those parts indicated with ..., uncomment the corresponding code in the cell below, and run it.*"
   ]
  },
  {
   "cell_type": "code",
   "execution_count": null,
   "metadata": {
    "deletable": false,
    "nbgrader": {
     "cell_type": "code",
     "checksum": "76b6a33ef731adec3d3d525da54f8083",
     "grade": false,
     "grade_id": "cell-1e057ff0dcf9cf28",
     "locked": false,
     "schema_version": 3,
     "solution": true,
     "task": false
    }
   },
   "outputs": [],
   "source": [
    "# facebook_scatterplot <- ggplot(..., aes(x = ..., y = ...)) +\n",
    "#   ...() +\n",
    "#   ...(aes(x = ..., y = ...), method = ..., se = FALSE, size = 1.5) +\n",
    "#   xlab(...) +\n",
    "#   ylab(...) +\n",
    "#   theme(\n",
    "#     text = element_text(size = 16.5),\n",
    "#     plot.title = element_text(face = \"bold\"),\n",
    "#     axis.title = element_text(face = \"bold\")\n",
    "#   )\n",
    "# facebook_scatterplot\n",
    " \n",
    "# your code here\n",
    "fail() # No Answer - remove if you provide an answer"
   ]
  },
  {
   "cell_type": "code",
   "execution_count": null,
   "metadata": {
    "deletable": false,
    "editable": false,
    "nbgrader": {
     "cell_type": "code",
     "checksum": "2289b73c936e424d0bfa3518c1b5ea64",
     "grade": true,
     "grade_id": "cell-17b6e4cdafc14089",
     "locked": true,
     "points": 1,
     "schema_version": 3,
     "solution": false,
     "task": false
    }
   },
   "outputs": [],
   "source": [
    "test_3.4()"
   ]
  },
  {
   "cell_type": "markdown",
   "metadata": {
    "deletable": false,
    "editable": false,
    "nbgrader": {
     "cell_type": "markdown",
     "checksum": "a84ab75ea2c410368f6cba825072b614",
     "grade": false,
     "grade_id": "cell-5de065f5b10f01e4",
     "locked": true,
     "schema_version": 3,
     "solution": false,
     "task": false
    }
   },
   "source": [
    "**Question 3.5**\n",
    "<br>{points: 1}\n",
    "\n",
    "Using the results in  `facebook_SLR_results`, write a the correct interpretation of the estimated slope"
   ]
  },
  {
   "cell_type": "markdown",
   "metadata": {
    "deletable": false,
    "nbgrader": {
     "cell_type": "markdown",
     "checksum": "8621a037b7bdde68624bdb7a764f3015",
     "grade": true,
     "grade_id": "cell-96c286a1023992ca",
     "locked": false,
     "points": 1,
     "schema_version": 3,
     "solution": true,
     "task": false
    }
   },
   "source": [
    "DOUBLE CLICK TO EDIT **THIS CELL** AND REPLACE THIS TEXT WITH YOUR ANSWER."
   ]
  },
  {
   "cell_type": "markdown",
   "metadata": {
    "deletable": false,
    "editable": false,
    "nbgrader": {
     "cell_type": "markdown",
     "checksum": "b67cd086921c97725541afa053cd5688",
     "grade": false,
     "grade_id": "cell-324a8a8a2e08e2e3",
     "locked": true,
     "schema_version": 3,
     "solution": false,
     "task": false
    }
   },
   "source": [
    "# 4. Inference"
   ]
  },
  {
   "cell_type": "markdown",
   "metadata": {
    "deletable": false,
    "editable": false,
    "nbgrader": {
     "cell_type": "markdown",
     "checksum": "988ec76416701fda1027c1ed6327e93d",
     "grade": false,
     "grade_id": "cell-2cbdf37962999769",
     "locked": true,
     "schema_version": 3,
     "solution": false,
     "task": false
    }
   },
   "source": [
    "**Question 4.0**\n",
    "<br>{points: 1}\n",
    "\n",
    "Using a significance level $\\alpha = 0.05$, is `page_engagement_percentage` statistically associated with `total_engagement_percentage`?\n",
    "\n",
    "*Assign your answer to an object called answer4.0. Your answer should be either \"true\" or \"false\", surrounded by quotes.*"
   ]
  },
  {
   "cell_type": "code",
   "execution_count": null,
   "metadata": {
    "deletable": false,
    "nbgrader": {
     "cell_type": "code",
     "checksum": "655af7c16fbda5d7b31ddde0bcc29e2d",
     "grade": false,
     "grade_id": "cell-a9e4780d55b05f26",
     "locked": false,
     "schema_version": 3,
     "solution": true,
     "task": false
    }
   },
   "outputs": [],
   "source": [
    "# answer4.0 <- \n",
    "\n",
    "# your code here\n",
    "fail() # No Answer - remove if you provide an answer"
   ]
  },
  {
   "cell_type": "code",
   "execution_count": null,
   "metadata": {
    "deletable": false,
    "editable": false,
    "nbgrader": {
     "cell_type": "code",
     "checksum": "56d8e63b1884eaa8368a3b17e8b0c90e",
     "grade": true,
     "grade_id": "cell-2557c5d473cd2ca5",
     "locked": true,
     "points": 1,
     "schema_version": 3,
     "solution": false,
     "task": false
    }
   },
   "outputs": [],
   "source": [
    "test_4.0()"
   ]
  },
  {
   "cell_type": "markdown",
   "metadata": {
    "deletable": false,
    "editable": false,
    "nbgrader": {
     "cell_type": "markdown",
     "checksum": "04f45ccea8d04c7fecc836955ac29994",
     "grade": false,
     "grade_id": "cell-3969ac7669b624cc",
     "locked": true,
     "schema_version": 3,
     "solution": false,
     "task": false
    }
   },
   "source": [
    "**Question 4.1**\n",
    "<br>{points: 1}\n",
    "\n",
    "The `p-values` computed by the function `lm` displayed in `facebook_SLR_results` are based on:\n",
    "\n",
    "**A.** classical theoretical approximations or results\n",
    "\n",
    "**B.** bootstrapping experiments\n",
    "\n",
    "**C.** none of the above\n",
    "\n",
    "*Assign your answer to an object called answer4.1 Your answer should be one of \"A\", \"B\", or \"C\" surrounded by quotes.*"
   ]
  },
  {
   "cell_type": "code",
   "execution_count": null,
   "metadata": {
    "deletable": false,
    "nbgrader": {
     "cell_type": "code",
     "checksum": "7b75c3e8a757e01aecd33cd3246495da",
     "grade": false,
     "grade_id": "cell-89fa950b7d61d5ce",
     "locked": false,
     "schema_version": 3,
     "solution": true,
     "task": false
    }
   },
   "outputs": [],
   "source": [
    "# answer4.1 <- ...\n",
    "\n",
    "# your code here\n",
    "fail() # No Answer - remove if you provide an answer"
   ]
  },
  {
   "cell_type": "code",
   "execution_count": null,
   "metadata": {
    "deletable": false,
    "editable": false,
    "nbgrader": {
     "cell_type": "code",
     "checksum": "940c0d7fdffd05a2c048a7e594e96582",
     "grade": true,
     "grade_id": "cell-4d86eb92b0c66dc0",
     "locked": true,
     "points": 1,
     "schema_version": 3,
     "solution": false,
     "task": false
    }
   },
   "outputs": [],
   "source": [
    "test_4.1()"
   ]
  },
  {
   "cell_type": "markdown",
   "metadata": {
    "deletable": false,
    "editable": false,
    "nbgrader": {
     "cell_type": "markdown",
     "checksum": "3eaae077b6650f90cbca7cf963e6b585",
     "grade": false,
     "grade_id": "cell-4eb270aafed9e9e7",
     "locked": true,
     "schema_version": 3,
     "solution": false,
     "task": false
    }
   },
   "source": [
    "**Question 4.2**\n",
    "<br>{points: 1}\n",
    "\n",
    "Using `facebook_SLR_results`, provide a correct intepretation of the 95% CI for `page_engagement_percentage`.\n"
   ]
  },
  {
   "cell_type": "markdown",
   "metadata": {
    "deletable": false,
    "nbgrader": {
     "cell_type": "markdown",
     "checksum": "159841c63b4c9fd1c87e944f46d3bd8a",
     "grade": true,
     "grade_id": "cell-f20007eb5aa52e59",
     "locked": false,
     "points": 1,
     "schema_version": 3,
     "solution": true,
     "task": false
    }
   },
   "source": [
    "\n",
    "DOUBLE CLICK TO EDIT **THIS CELL** AND REPLACE THIS TEXT WITH YOUR ANSWER."
   ]
  },
  {
   "cell_type": "markdown",
   "metadata": {
    "deletable": false,
    "editable": false,
    "nbgrader": {
     "cell_type": "markdown",
     "checksum": "9446adcdd5baebbdafe80b0a317a1623",
     "grade": false,
     "grade_id": "cell-74dcf2dc57354acc",
     "locked": true,
     "schema_version": 3,
     "solution": false,
     "task": false
    }
   },
   "source": [
    "**Question 4.3**\n",
    "<br>{points: 1}\n",
    "\n",
    "One of the *sampling distributions* related to SLR is \n",
    "\n",
    "**A.** The distribution of the response $Y$.\n",
    "\n",
    "**B.** The distribution of the true population slope $\\beta_1$.\n",
    "\n",
    "**C.** The distribution of $\\hat{\\beta}_1$, the estimator of the slope.\n",
    "\n",
    "**D.** The distribution of the input variable $X$.\n",
    "\n",
    "*Assign your answer to an object called `answer4.3`. Your answer should be one of \"A\", \"B\", \"C\", or \"D\" surrounded by quotes.*"
   ]
  },
  {
   "cell_type": "code",
   "execution_count": null,
   "metadata": {
    "deletable": false,
    "nbgrader": {
     "cell_type": "code",
     "checksum": "abb49a119e6a367227d09f2387aee29e",
     "grade": false,
     "grade_id": "cell-67d1fca093753e9d",
     "locked": false,
     "schema_version": 3,
     "solution": true,
     "task": false
    }
   },
   "outputs": [],
   "source": [
    "# answer4.3<- ...\n",
    "\n",
    "# your code here\n",
    "fail() # No Answer - remove if you provide an answer"
   ]
  },
  {
   "cell_type": "code",
   "execution_count": null,
   "metadata": {
    "deletable": false,
    "editable": false,
    "nbgrader": {
     "cell_type": "code",
     "checksum": "fed1faa450c722a781e401a77350545c",
     "grade": true,
     "grade_id": "cell-6e0c245deaae5bb6",
     "locked": true,
     "points": 1,
     "schema_version": 3,
     "solution": false,
     "task": false
    }
   },
   "outputs": [],
   "source": [
    "test_4.3()"
   ]
  },
  {
   "cell_type": "markdown",
   "metadata": {
    "deletable": false,
    "editable": false,
    "nbgrader": {
     "cell_type": "markdown",
     "checksum": "d3304ea04846ac23b53013cc80a4b5b7",
     "grade": false,
     "grade_id": "cell-a4817fbb82f87eeb",
     "locked": true,
     "schema_version": 3,
     "solution": false,
     "task": false
    }
   },
   "source": [
    "**Question 4.4**\n",
    "<br>{points: 1}\n",
    "\n",
    "If we assume that the error terms are Normal, it can be proved that the sampling distributions are Normal as well. However, we usually don't know the true distribution of the error terms. \n",
    "\n",
    "When we don't want to make these assumptions, another way of approximating the sampling distribution is bootstrapping from `facebook_data`.\n",
    "\n",
    "- Obtain $B = 1000$ sets of regression estimates by fitting a SLR $B$ times using their respective boostrapped samples. \n",
    "\n",
    "- Store the corresponding $\\hat{\\beta}^*_0$ and $\\hat{\\beta}^*_1$ per boostrapped sample in the data frame `lm_boot` of 1000 rows and two columns:\n",
    "    - boot_intercept: list of bootstrapped intercept $\\hat{\\beta}^*_0$.\n",
    "    - boot_slope: list of bootstrapped slope $\\hat{\\beta}^*_1$.\n",
    "    \n",
    "*Fill out those parts indicated with ..., uncomment the corresponding code in the cell below, and run it.*"
   ]
  },
  {
   "cell_type": "code",
   "execution_count": null,
   "metadata": {
    "deletable": false,
    "nbgrader": {
     "cell_type": "code",
     "checksum": "ec9bca1d7dc395063beae53ed93d6ec5",
     "grade": false,
     "grade_id": "cell-2abb129ec95221ad",
     "locked": false,
     "schema_version": 3,
     "solution": true,
     "task": false
    }
   },
   "outputs": [],
   "source": [
    "set.seed(123)  # DO NOT CHANGE!\n",
    "\n",
    "# n <- ...\n",
    "# B <- ...\n",
    "\n",
    "# lm_boot <- replicate(..., {\n",
    "#   sample_n(..., ..., replace = ...) %>%\n",
    "#     lm(formula = ..., data = .) %>%\n",
    "#     .$coef\n",
    "# })\n",
    "# lm_boot <- data.frame(boot_intercept = lm_boot[1, ], boot_slope = lm_boot[2, ])\n",
    "\n",
    "# head(lm_boot)\n",
    "# tail(lm_boot)\n",
    "\n",
    "# your code here\n",
    "fail() # No Answer - remove if you provide an answer"
   ]
  },
  {
   "cell_type": "code",
   "execution_count": null,
   "metadata": {
    "deletable": false,
    "editable": false,
    "nbgrader": {
     "cell_type": "code",
     "checksum": "a7f3ff3508e9a4f5b6be555981a4f29b",
     "grade": true,
     "grade_id": "cell-d6e2116a57b37c60",
     "locked": true,
     "points": 1,
     "schema_version": 3,
     "solution": false,
     "task": false
    }
   },
   "outputs": [],
   "source": [
    "test_4.4()"
   ]
  },
  {
   "cell_type": "markdown",
   "metadata": {
    "deletable": false,
    "editable": false,
    "nbgrader": {
     "cell_type": "markdown",
     "checksum": "6b729b4572e7e3d3924946b12983e82c",
     "grade": false,
     "grade_id": "cell-29b88974801f385c",
     "locked": true,
     "schema_version": 3,
     "solution": false,
     "task": false
    }
   },
   "source": [
    "**Question 4.5**\n",
    "<br>{points: 1}\n",
    "\n",
    "Now that we have a list of bootstrapped estimates, we can visualize the sampling distributions! \n",
    "\n",
    "Let's focus on the sampling distribution of the estimator of the slope.\n",
    "\n",
    "The ggplot() object's name will be `slope_sampling_dist_boot`.\n",
    "\n",
    "*Fill out those parts indicated with ..., uncomment the corresponding code in the cell below, and run it.*"
   ]
  },
  {
   "cell_type": "code",
   "execution_count": null,
   "metadata": {
    "deletable": false,
    "nbgrader": {
     "cell_type": "code",
     "checksum": "a199e18558d8458bf173d7c0fad63c91",
     "grade": false,
     "grade_id": "cell-1be0d98a6824963b",
     "locked": false,
     "schema_version": 3,
     "solution": true,
     "task": false
    }
   },
   "outputs": [],
   "source": [
    "#slope_sampling_dist_boot <-  ggplot(..., aes(x = ...)) +\n",
    "#    geom_histogram(bins = ...) +\n",
    "#    coord_cartesian(xlim = c(0.9, 1.2)) +\n",
    "#    xlab(\"...\") +\n",
    "#    ggtitle(\"Sampling distribution for the estimator of the slope\")\n",
    "\n",
    "#slope_sampling_dist_boot\n",
    "\n",
    "\n",
    "# your code here\n",
    "fail() # No Answer - remove if you provide an answer"
   ]
  },
  {
   "cell_type": "code",
   "execution_count": null,
   "metadata": {
    "deletable": false,
    "editable": false,
    "nbgrader": {
     "cell_type": "code",
     "checksum": "d20686c49b98645360e2e7e344e4f225",
     "grade": true,
     "grade_id": "cell-b9108c2055d3ac91",
     "locked": true,
     "points": 1,
     "schema_version": 3,
     "solution": false,
     "task": false
    }
   },
   "outputs": [],
   "source": [
    "test_4.5()"
   ]
  },
  {
   "cell_type": "markdown",
   "metadata": {
    "deletable": false,
    "editable": false,
    "nbgrader": {
     "cell_type": "markdown",
     "checksum": "072db1d70a37f661762259b7c6db99ef",
     "grade": false,
     "grade_id": "cell-f208a7aad835a1b4",
     "locked": true,
     "schema_version": 3,
     "solution": false,
     "task": false
    }
   },
   "source": [
    "**Question 4.6**\n",
    "<br>{points: 1}\n",
    "\n",
    "Add vertical lines to the plot of the sampling distribution, `slope_sampling_dist_boot`, to visulize the upper and lower limits of the bootstrap *percentile CIs* of the slope.\n",
    "\n",
    "The ggplot() object's name will be `slope_sampling_dist_boot_limits`.\n",
    "\n",
    "*Fill out those parts indicated with ..., uncomment the corresponding code in the cell below, and run it.*"
   ]
  },
  {
   "cell_type": "code",
   "execution_count": null,
   "metadata": {
    "deletable": false,
    "nbgrader": {
     "cell_type": "code",
     "checksum": "f4ee31ea2d2872122967451a5f4e0e5a",
     "grade": false,
     "grade_id": "cell-f1005eef309b7034",
     "locked": false,
     "schema_version": 3,
     "solution": true,
     "task": false
    }
   },
   "outputs": [],
   "source": [
    "#slope_sampling_dist_boot_limits <- ... + \n",
    "#   geom_vline(aes(xintercept = quantile(...,...)),col='blue',size=1)+\n",
    "#   geom_vline(aes(xintercept = quantile(...,...)),col='blue',size=1)\n",
    "\n",
    "# your code here\n",
    "fail() # No Answer - remove if you provide an answer\n",
    "slope_sampling_dist_boot_limits"
   ]
  },
  {
   "cell_type": "code",
   "execution_count": null,
   "metadata": {
    "deletable": false,
    "editable": false,
    "nbgrader": {
     "cell_type": "code",
     "checksum": "ab9c3b6254f4bddc787e20a95a311030",
     "grade": true,
     "grade_id": "cell-e99ddded2b8a3b53",
     "locked": true,
     "points": 1,
     "schema_version": 3,
     "solution": false,
     "task": false
    }
   },
   "outputs": [],
   "source": [
    "test_4.6()"
   ]
  },
  {
   "cell_type": "markdown",
   "metadata": {
    "deletable": false,
    "editable": false,
    "nbgrader": {
     "cell_type": "markdown",
     "checksum": "a6ab43907a0ca298fde43ddeeef11ed4",
     "grade": false,
     "grade_id": "cell-f6df9aa915de5943",
     "locked": true,
     "schema_version": 3,
     "solution": false,
     "task": false
    }
   },
   "source": [
    "**Question 4.7**\n",
    "<br>{points: 1}\n",
    "\n",
    "In one or two sentences explain how to use `lm_boot` generated in **Question 4.4** to approximate the sampling distribution of the estimator of the intercept."
   ]
  },
  {
   "cell_type": "markdown",
   "metadata": {
    "deletable": false,
    "nbgrader": {
     "cell_type": "markdown",
     "checksum": "1eea2841bbf778276e7e3a8406c36e69",
     "grade": true,
     "grade_id": "cell-72593ed4ef54b37f",
     "locked": false,
     "points": 1,
     "schema_version": 3,
     "solution": true,
     "task": false
    }
   },
   "source": [
    "DOUBLE CLICK TO EDIT **THIS CELL** AND REPLACE THIS TEXT WITH YOUR ANSWER."
   ]
  }
 ],
 "metadata": {
  "jupytext": {
   "formats": "ipynb,Rmd"
  },
  "kernelspec": {
   "display_name": "R",
   "language": "R",
   "name": "ir"
  },
  "language_info": {
   "codemirror_mode": "r",
   "file_extension": ".r",
   "mimetype": "text/x-r-source",
   "name": "R",
   "pygments_lexer": "r",
   "version": "4.1.3"
  },
  "latex_envs": {
   "LaTeX_envs_menu_present": true,
   "autoclose": false,
   "autocomplete": true,
   "bibliofile": "biblio.bib",
   "cite_by": "apalike",
   "current_citInitial": 1,
   "eqLabelWithNumbers": true,
   "eqNumInitial": 1,
   "hotkeys": {
    "equation": "Ctrl-E",
    "itemize": "Ctrl-I"
   },
   "labels_anchors": false,
   "latex_user_defs": false,
   "report_style_numbering": false,
   "user_envs_cfg": false
  }
 },
 "nbformat": 4,
 "nbformat_minor": 4
}
